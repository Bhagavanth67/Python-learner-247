{
  "nbformat": 4,
  "nbformat_minor": 0,
  "metadata": {
    "colab": {
      "provenance": [],
      "authorship_tag": "ABX9TyOR+PPWgQaHvEKTCGwvzNmH",
      "include_colab_link": true
    },
    "kernelspec": {
      "name": "python3",
      "display_name": "Python 3"
    },
    "language_info": {
      "name": "python"
    }
  },
  "cells": [
    {
      "cell_type": "markdown",
      "metadata": {
        "id": "view-in-github",
        "colab_type": "text"
      },
      "source": [
        "<a href=\"https://colab.research.google.com/github/Bhagavanth67/Python-learner-247/blob/main/5_lists_comprehension.ipynb\" target=\"_parent\"><img src=\"https://colab.research.google.com/assets/colab-badge.svg\" alt=\"Open In Colab\"/></a>"
      ]
    },
    {
      "cell_type": "code",
      "execution_count": null,
      "metadata": {
        "id": "UtcBQXzmOAq5"
      },
      "outputs": [],
      "source": [
        "# Use list comprehension to get only words longer than 4 characters from a list of strings.\n",
        "lst = [\"aeroplane\",\"car\",\"bikes\",\"cycles\",\"bus\"]\n",
        "result = [x for x in lst if len(x) > 4]\n",
        "print(result)"
      ]
    },
    {
      "cell_type": "code",
      "source": [
        "# Create a list of 5 fruits and print it.\n",
        "lst = [\"apple\",\"banana\",\"guava\",\"grapes\",\"pineapple\"]\n",
        "print(lst)"
      ],
      "metadata": {
        "id": "slf-s7FgOWk7"
      },
      "execution_count": null,
      "outputs": []
    },
    {
      "cell_type": "code",
      "source": [
        "# Use negative indexing to access the last three elements of a list.\n",
        "lst = [1,2,3,4,5]\n",
        "print(lst[-3::])"
      ],
      "metadata": {
        "id": "VbtcxTgHOtbY"
      },
      "execution_count": null,
      "outputs": []
    },
    {
      "cell_type": "code",
      "source": [
        "# Slice a list to get elements from index 2 to 5.\n",
        "lst = [1,2,3,4,5]\n",
        "print(lst[2 : 5])"
      ],
      "metadata": {
        "id": "zQevvCiw1iP5"
      },
      "execution_count": null,
      "outputs": []
    },
    {
      "cell_type": "code",
      "source": [
        "# Reverse a list using slicing.\n",
        "lst = [1,2,3,4,5]\n",
        "print(lst[::-1])"
      ],
      "metadata": {
        "id": "AyJyqTMV11-J"
      },
      "execution_count": null,
      "outputs": []
    },
    {
      "cell_type": "code",
      "source": [
        "# Create a list of numbers from 1 to 10 and print even numbers only.\n",
        "lst = [1,2,3,4,5,6,7,8,9,10]\n",
        "for i in lst:\n",
        "  if i % 2 == 0:\n",
        "    print(i,end = \" \")"
      ],
      "metadata": {
        "id": "MKqVbJgV2vcE"
      },
      "execution_count": null,
      "outputs": []
    },
    {
      "cell_type": "code",
      "source": [
        "# Replace the second element in a list with a new value.\n",
        "lst = [1,2,3,4,5,6,7,8,9,10]\n",
        "lst[1] = 6\n",
        "print(lst)"
      ],
      "metadata": {
        "id": "Ftk0IsXT3RG4"
      },
      "execution_count": null,
      "outputs": []
    },
    {
      "cell_type": "code",
      "source": [
        "# Add an element to the end of a list using append().\n",
        "lst = [1,2,3,4,5,6]\n",
        "lst.append(7)\n",
        "print(lst)"
      ],
      "metadata": {
        "id": "98jNQ3G03z6S"
      },
      "execution_count": null,
      "outputs": []
    },
    {
      "cell_type": "code",
      "source": [
        "# Insert an element at the second position using insert().\n",
        "lst = [1,3,4,5,6]\n",
        "lst.insert(1,2)\n",
        "print(lst)"
      ],
      "metadata": {
        "id": "uSRx85pp4Fcd"
      },
      "execution_count": null,
      "outputs": []
    },
    {
      "cell_type": "code",
      "source": [
        "# Extend a list with another list using extend().\n",
        "lst = [1,2,3,4,5]\n",
        "lst_new = [6,7,8,9,0]\n",
        "lst.extend(lst_new)\n",
        "print(lst)"
      ],
      "metadata": {
        "id": "2ErUa9nQ4ZFs"
      },
      "execution_count": null,
      "outputs": []
    },
    {
      "cell_type": "code",
      "source": [
        "# Remove an element from a list using remove().\n",
        "lst = [1,2,3,4,5]\n",
        "lst.remove(2)\n",
        "print(lst)"
      ],
      "metadata": {
        "id": "oCvFTlDT45wv"
      },
      "execution_count": null,
      "outputs": []
    },
    {
      "cell_type": "code",
      "source": [
        "# Remove the last element from a list using pop().\n",
        "lst = [1,2,3,4,5]\n",
        "lst.pop(-1)\n",
        "print(lst)"
      ],
      "metadata": {
        "id": "K5DzKxT95ltm"
      },
      "execution_count": null,
      "outputs": []
    },
    {
      "cell_type": "code",
      "source": [
        "# Delete an element from a specific index using del.\n",
        "lst = [1,2,3,4,5]\n",
        "del lst[-1]\n",
        "print(lst)"
      ],
      "metadata": {
        "id": "DiGNUuM251yZ"
      },
      "execution_count": null,
      "outputs": []
    },
    {
      "cell_type": "code",
      "source": [
        "# Find the index of an element using index().\n",
        "lst = [1,2,3,4,5]\n",
        "num = int(input(\"Enter the number : \"))\n",
        "i = lst.index(num)\n",
        "print(\"element found at index\",i)"
      ],
      "metadata": {
        "id": "OHv02cvf6SzW"
      },
      "execution_count": null,
      "outputs": []
    },
    {
      "cell_type": "code",
      "source": [
        "# Count the occurrences of a specific element using count().\n",
        "lst = [1, 2, 3, 2, 4, 2, 5]\n",
        "n = int(input(\"Enter the number : \"))\n",
        "Count = lst.count(n)\n",
        "print(f\"Number of times {n} appears:\", Count)"
      ],
      "metadata": {
        "id": "gVD3_Xhz74yK"
      },
      "execution_count": null,
      "outputs": []
    },
    {
      "cell_type": "code",
      "source": [
        "# Sort a list of numbers in ascending order.\n",
        "lst = [5,4,3,2,1]\n",
        "lst.sort()\n",
        "print(lst)"
      ],
      "metadata": {
        "id": "CNeUqf399Jcn"
      },
      "execution_count": null,
      "outputs": []
    },
    {
      "cell_type": "code",
      "source": [
        "# Sort a list of strings in descending order.\n",
        "lst = [1,2,3,4,5]\n",
        "lst.sort(reverse = True)\n",
        "print(lst)"
      ],
      "metadata": {
        "id": "xja1-RED9v7k"
      },
      "execution_count": null,
      "outputs": []
    },
    {
      "cell_type": "code",
      "source": [
        "# Copy a list using the copy() method.\n",
        "lst = [1,2,3,4,5]\n",
        "copied = lst.copy()\n",
        "print(copied)"
      ],
      "metadata": {
        "id": "7SrAqxXg9-Kp"
      },
      "execution_count": null,
      "outputs": []
    },
    {
      "cell_type": "code",
      "source": [
        "# Clear all elements from a list using clear().\n",
        "lst = [1,2,3,4,5]\n",
        "lst.clear()\n",
        "print(lst)"
      ],
      "metadata": {
        "id": "7qPzjIOi-42o"
      },
      "execution_count": null,
      "outputs": []
    },
    {
      "cell_type": "code",
      "source": [
        "# Create a nested list and access an element from the inner list.\n",
        "lst = [[1,2,3],[4,5,6],[7,8,9]]\n",
        "for i in lst:\n",
        "  for j in i:\n",
        "    print(j,end = \" \")\n",
        "  print()"
      ],
      "metadata": {
        "id": "5vcBc8GM_Pz2"
      },
      "execution_count": null,
      "outputs": []
    },
    {
      "cell_type": "code",
      "source": [
        "# Use a list comprehension to create a list of squares from 1 to 10.\n",
        "nums = [1, 2, 3, 4, 5, 6, 7, 8, 9, 10]\n",
        "squares = [x**2 for x in nums]\n",
        "print(squares)"
      ],
      "metadata": {
        "id": "j3KD6waUAX4G"
      },
      "execution_count": null,
      "outputs": []
    },
    {
      "cell_type": "code",
      "source": [
        "# Use a list comprehension to create a list of even numbers between 1 and 20.\n",
        "nums = [1, 2, 3, 4, 5, 6, 7, 8, 9, 10, 11, 12, 13, 14, 15, 16, 17, 18, 19, 20]\n",
        "evens = [x for x in nums if x % 2 == 0]\n",
        "print(evens)"
      ],
      "metadata": {
        "id": "d_e4WQy6A9lz"
      },
      "execution_count": null,
      "outputs": []
    },
    {
      "cell_type": "code",
      "source": [
        "# Use a list comprehension to convert all strings in a list to uppercase.\n",
        "lst = [\"apple\",\"banana\",\"guava\",\"grapes\",\"pineapple\"]\n",
        "uppers = [x.upper() for x in lst]\n",
        "print(uppers)"
      ],
      "metadata": {
        "id": "mOFctU69B5hE"
      },
      "execution_count": null,
      "outputs": []
    },
    {
      "cell_type": "code",
      "source": [
        "# Filter out negative numbers from a list using list comprehension.\n",
        "nums = [-1, 2, -3, 4, -5, 6, -7, 8, -9, 10]\n",
        "non_neg = [x for x in nums if x > 0]\n",
        "print(non_neg)"
      ],
      "metadata": {
        "id": "gl5nAawqCrua"
      },
      "execution_count": null,
      "outputs": []
    },
    {
      "cell_type": "code",
      "source": [
        "# Create a list of tuples (number, square) for numbers from 1 to 5.\n",
        "lst = [(x, x**2) for x in range(1, 6)]\n",
        "print(lst)"
      ],
      "metadata": {
        "id": "AWG-qvvYDSm5"
      },
      "execution_count": null,
      "outputs": []
    },
    {
      "cell_type": "code",
      "source": [
        "# Create a list of cube values for numbers 1 to 10 using comprehension.\n",
        "nums = [1, 2, 3, 4, 5, 6, 7, 8, 9, 10]\n",
        "squares = [x**3 for x in nums]\n",
        "print(squares)"
      ],
      "metadata": {
        "id": "eSfkqSaJFhw4"
      },
      "execution_count": null,
      "outputs": []
    },
    {
      "cell_type": "code",
      "source": [
        "# Use a list comprehension with a conditional expression to label numbers as \"Even\" or \"Odd\".\n",
        "numbers = [1, 2, 3, 4, 5, 6]\n",
        "labels = [\"Even\" if num % 2 == 0 else \"Odd\" for num in numbers]\n",
        "print(labels)"
      ],
      "metadata": {
        "id": "7IaSGkg7hGJ4"
      },
      "execution_count": null,
      "outputs": []
    },
    {
      "cell_type": "code",
      "source": [
        "# Flatten a nested list using a list comprehension.\n",
        "nested_list = [[1, 2, 3], [4, 5], [6, 7, 8]]\n",
        "flattened_list = [item for sublist in nested_list for item in sublist]\n",
        "print(flattened_list)"
      ],
      "metadata": {
        "id": "rqU3g881hkzs"
      },
      "execution_count": null,
      "outputs": []
    },
    {
      "cell_type": "code",
      "source": [
        "# Remove duplicates from a list using list comprehension and set().\n",
        "original_list = [1, 2, 2, 3, 4, 4, 5]\n",
        "unique_list = [item for item in set(original_list)]\n",
        "print(unique_list)\n"
      ],
      "metadata": {
        "id": "cy6xkbi8h0d7"
      },
      "execution_count": null,
      "outputs": []
    }
  ]
}