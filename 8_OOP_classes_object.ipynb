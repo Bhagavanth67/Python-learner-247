{
  "nbformat": 4,
  "nbformat_minor": 0,
  "metadata": {
    "colab": {
      "provenance": [],
      "authorship_tag": "ABX9TyME1vq59zbnDHnQZtukmCNt",
      "include_colab_link": true
    },
    "kernelspec": {
      "name": "python3",
      "display_name": "Python 3"
    },
    "language_info": {
      "name": "python"
    }
  },
  "cells": [
    {
      "cell_type": "markdown",
      "metadata": {
        "id": "view-in-github",
        "colab_type": "text"
      },
      "source": [
        "<a href=\"https://colab.research.google.com/github/Bhagavanth67/Python-learner-247/blob/main/8_OOP_classes_object.ipynb\" target=\"_parent\"><img src=\"https://colab.research.google.com/assets/colab-badge.svg\" alt=\"Open In Colab\"/></a>"
      ]
    },
    {
      "cell_type": "code",
      "execution_count": null,
      "metadata": {
        "id": "WdLMq1E2qY-b"
      },
      "outputs": [],
      "source": [
        "# Create a static method in a class and call it without creating an object.\n",
        "class Sample:\n",
        "    @staticmethod\n",
        "    def greet():\n",
        "        print(\"Hello World!\")\n",
        "Sample.greet()"
      ]
    },
    {
      "cell_type": "code",
      "source": [
        "\"\"\"\n",
        "1. __init__(self, ...) – Constructor, runs when an object is created\n",
        "\n",
        "2. __del__(self) – Destructor, runs when an object is deleted\n",
        "\n",
        "3. __str__(self) – Defines the string representation of an object (used by print)\n",
        "\n",
        "4. __repr__(self) – Official string representation (used in interactive shell)\n",
        "\n",
        "5. __len__(self) – Called by len() on the object\n",
        "\n",
        "6. __getitem__(self, key) – Called when accessing an item like obj[key]\n",
        "\n",
        "7. __setitem__(self, key, value) – Called when assigning an item like obj[key] = value\n",
        "\n",
        "8. __delitem__(self, key) – Called when deleting an item like del obj[key]\n",
        "\n",
        "9. __eq__(self, other) – Equality comparison ==\n",
        "\n",
        "10. __lt__(self, other) – Less than < comparison\n",
        "\n",
        "11. __gt__(self, other) – Greater than > comparison\n",
        "\n",
        "12. __add__(self, other) – Addition operator +\n",
        "\n",
        "13. __sub__(self, other) – Subtraction operator -\n",
        "\n",
        "14. __mul__(self, other) – Multiplication operator *\n",
        "\n",
        "15. __call__(self, ...) – Makes the object callable like a function\n",
        "\n",
        "16. __contains__(self, item) – Called by in operator\n",
        "\n",
        "17. __iter__(self) – Returns an iterator (used in loops)\n",
        "\n",
        "18. __next__(self) – Returns the next item from an iterator\n",
        "\n",
        "\"\"\""
      ],
      "metadata": {
        "id": "3eCL5f7cJ7kz"
      },
      "execution_count": null,
      "outputs": []
    },
    {
      "cell_type": "code",
      "source": [
        "# Define a class named Person with no attributes or methods.\n",
        "class Person:\n",
        "  pass"
      ],
      "metadata": {
        "id": "1UT3jgJdq-_F"
      },
      "execution_count": null,
      "outputs": []
    },
    {
      "cell_type": "code",
      "source": [
        "# Create an object of the Person class.\n",
        "class Person:\n",
        "  pass\n",
        "person_1 = Person()"
      ],
      "metadata": {
        "id": "68x64EiHr9S6"
      },
      "execution_count": null,
      "outputs": []
    },
    {
      "cell_type": "code",
      "source": [
        "# Define a class with an __init__ constructor that takes name and age as parameters.\n",
        "class Person:\n",
        "  def __init__(self,name,age):\n",
        "    self.name = name\n",
        "    self.age = age\n",
        "\n",
        "person_1 = Person(name,age)"
      ],
      "metadata": {
        "id": "zMZT9iPotmvH"
      },
      "execution_count": null,
      "outputs": []
    },
    {
      "cell_type": "code",
      "source": [
        "# Create an object of the class and print its name and age.\n",
        "class Person:\n",
        "  def __init__(self,name,age):\n",
        "    self.name = name\n",
        "    self.age = age\n",
        "\n",
        "name = input(\"Enter the name : \")\n",
        "age = int(input(\"Enter the age : \"))\n",
        "person_1 = Person(name,age)\n",
        "print(person_1.name , \"is\" , person_1.age , \"years old\")"
      ],
      "metadata": {
        "id": "UdYbIxoQuHEu"
      },
      "execution_count": null,
      "outputs": []
    },
    {
      "cell_type": "code",
      "source": [
        "# Add a method in the class that prints a greeting message.\n",
        "class Person:\n",
        "  def __init__(self,name):\n",
        "    self.name = name\n",
        "\n",
        "  def greet(self):\n",
        "    print(\"Welcome\",self.name,\"!!\")\n",
        "\n",
        "name = input(\"Enter the name : \")\n",
        "person_1 = Person(name)\n",
        "person_1.greet()"
      ],
      "metadata": {
        "id": "zHucAybzvdEl"
      },
      "execution_count": null,
      "outputs": []
    },
    {
      "cell_type": "code",
      "source": [
        "# Call the method of the object created from the class.\n",
        "class Person:\n",
        "  def __init__(self,name):\n",
        "    self.name = name\n",
        "\n",
        "  def greet(self):\n",
        "    print(\"Hello\",self.name,\"!!\")\n",
        "\n",
        "name = input(\"Enter the name : \")\n",
        "person_1 = Person(name)\n",
        "person_1.greet()"
      ],
      "metadata": {
        "id": "XZKlQvrQyhbh"
      },
      "execution_count": null,
      "outputs": []
    },
    {
      "cell_type": "code",
      "source": [
        "# Add an instance variable to a class and print it using an object.\n",
        "class Person:\n",
        "    def __init__(self, name, age):\n",
        "        self.name = name\n",
        "        self.age = age\n",
        "\n",
        "    def greet(self):\n",
        "        print(\"Welcome\", self.name, \"!!\")\n",
        "\n",
        "    def show_age(self):\n",
        "        print(\"You\", self.age, \"years old.\")\n",
        "\n",
        "name = input(\"Enter the name: \")\n",
        "age = int(input(\"Enter the age: \"))\n",
        "person_1 = Person(name, age)\n",
        "person_1.greet()\n",
        "person_1.show_age()"
      ],
      "metadata": {
        "id": "l_59pY7QzgMi"
      },
      "execution_count": null,
      "outputs": []
    },
    {
      "cell_type": "code",
      "source": [
        "# Add a class variable to a class and access it using the class name.\n",
        "class Person:\n",
        "    gender = input(\"Enter the gender: \")\n",
        "    def __init__(self, name, age):\n",
        "        self.name = name\n",
        "        self.age = age\n",
        "\n",
        "    def greet(self):\n",
        "        print(\"Welcome\", self.name, \"!!\")\n",
        "\n",
        "    def show_age(self):\n",
        "        print(\"You are\", self.age, \"years old.\")\n",
        "\n",
        "name = input(\"Enter the name: \")\n",
        "age = int(input(\"Enter the age: \"))\n",
        "person_1 = Person(name, age)\n",
        "person_1.greet()\n",
        "person_1.show_age()\n",
        "print(\"Gender:\", Person.gender)"
      ],
      "metadata": {
        "id": "aLYRqINV0WWz"
      },
      "execution_count": null,
      "outputs": []
    },
    {
      "cell_type": "code",
      "source": [
        "# Access a class variable using an object.\n",
        "class Person:\n",
        "    gender = input(\"Enter the gender: \")\n",
        "    def __init__(self, name, age):\n",
        "        self.name = name\n",
        "        self.age = age\n",
        "\n",
        "    def greet(self):\n",
        "        print(\"Welcome\", self.name, \"!!\")\n",
        "\n",
        "    def show_age(self):\n",
        "        print(\"You are\", self.age, \"years old.\")\n",
        "\n",
        "name = input(\"Enter the name: \")\n",
        "age = int(input(\"Enter the age: \"))\n",
        "person_1 = Person(name, age)\n",
        "person_1.greet()\n",
        "person_1.show_age()\n",
        "print(\"Gender:\", person_1.gender)"
      ],
      "metadata": {
        "id": "3i3AiHNP3vXs"
      },
      "execution_count": null,
      "outputs": []
    },
    {
      "cell_type": "code",
      "source": [
        "# Modify a class variable using the class name and observe its effect on objects.\n",
        "class Person:\n",
        "    gender = \"Not specified\"\n",
        "\n",
        "    def __init__(self, name, age, gender):\n",
        "        self.name = name\n",
        "        self.age = age\n",
        "        self.gender = gender\n",
        "\n",
        "    def greet(self):\n",
        "        print(\"Welcome\", self.name, \"!!\")\n",
        "\n",
        "    def show_age(self):\n",
        "        print(\"You are\", self.age, \"years old.\")\n",
        "\n",
        "name = input(\"Enter the name: \")\n",
        "age = int(input(\"Enter the age: \"))\n",
        "gender_1 = input(\"Enter the gender: \")\n",
        "person_1 = Person(name, age, gender_1)\n",
        "\n",
        "name = input(\"Enter the name: \")\n",
        "age = int(input(\"Enter the age: \"))\n",
        "gender_2 = input(\"Enter the gender: \")\n",
        "person_2 = Person(name, age, gender_2)\n",
        "\n",
        "print()\n",
        "\n",
        "person_1.greet()\n",
        "person_1.show_age()\n",
        "print(\"Gender:\", person_1.gender)\n",
        "\n",
        "print()\n",
        "\n",
        "person_2.greet()\n",
        "person_2.show_age()\n",
        "print(\"Gender:\", person_2.gender)"
      ],
      "metadata": {
        "id": "kxv8Uv-U_dl1"
      },
      "execution_count": null,
      "outputs": []
    },
    {
      "cell_type": "code",
      "source": [
        "# Add a method that modifies an instance variable.\n",
        "class Person:\n",
        "    gender = \"Not specified\"\n",
        "\n",
        "    def __init__(self, name, age, gender):\n",
        "        self.name = name\n",
        "        self.age = age\n",
        "        self.gender = gender\n",
        "\n",
        "    def greet(self):\n",
        "        print(\"Welcome\", self.name, \"!!\")\n",
        "\n",
        "    def show_age(self):\n",
        "        print(\"You are\", self.age, \"years old.\")\n",
        "\n",
        "    def set_age(self, new_age):\n",
        "        self.age = new_age\n",
        "\n",
        "name = input(\"Enter the name: \")\n",
        "age = int(input(\"Enter the age: \"))\n",
        "gender_1 = input(\"Enter the gender : \")\n",
        "person_1 = Person(name, age, gender_1)\n",
        "\n",
        "person_1.greet()\n",
        "person_1.set_age(21)\n",
        "person_1.show_age()"
      ],
      "metadata": {
        "id": "Hc5wf1f3Bx5i"
      },
      "execution_count": null,
      "outputs": []
    },
    {
      "cell_type": "code",
      "source": [
        "# Create a method that returns the full details of an object as a string.\n",
        "class Person:\n",
        "    gender = \"Not specified\"\n",
        "\n",
        "    def __init__(self, name, age, gender):\n",
        "        self.name = name\n",
        "        self.age = age\n",
        "        self.gender = gender\n",
        "\n",
        "    def greet(self):\n",
        "        print(\"Welcome\", self.name, \"!!\")\n",
        "\n",
        "    def show_age(self):\n",
        "        print(\"You are\", self.age, \"years old.\")\n",
        "\n",
        "    def set_age(self, new_age):\n",
        "        self.age = new_age\n",
        "\n",
        "    def get_details(self):\n",
        "        return f\"Name: {self.name}, Age: {self.age}, Gender: {self.gender}\"\n",
        "\n",
        "name = input(\"Enter the name: \")\n",
        "age = int(input(\"Enter the age: \"))\n",
        "gender_1 = input(\"Enter the gender : \")\n",
        "person_1 = Person(name, age, gender_1)\n",
        "\n",
        "person_1.greet()\n",
        "person_1.set_age(21)\n",
        "person_1.show_age()\n",
        "print(person_1.get_details())"
      ],
      "metadata": {
        "id": "d0jnXzGeDOlf"
      },
      "execution_count": null,
      "outputs": []
    },
    {
      "cell_type": "code",
      "source": [
        "# Use self keyword to access instance variables inside a method.\n",
        "class Person:\n",
        "    gender = \"Not specified\"\n",
        "\n",
        "    def __init__(self, name, age, gender):\n",
        "        self.name = name\n",
        "        self.age = age\n",
        "        self.gender = gender\n",
        "\n",
        "    def greet(self):\n",
        "        print(\"Welcome\", self.name, \"!!\")\n",
        "\n",
        "    def show_age(self):\n",
        "        print(\"You are\", self.age, \"years old.\")\n",
        "\n",
        "    def set_age(self, new_age):\n",
        "        self.age = new_age\n",
        "\n",
        "    def get_details(self):\n",
        "        return f\"Name: {self.name}, Age: {self.age}, Gender: {self.gender}\"\n",
        "\n",
        "    def celebrate_birthday(self):\n",
        "        self.age += 1\n",
        "        print(f\"Happy Birthday {self.name}! You are now {self.age} years old.\")\n",
        "\n",
        "name = input(\"Enter the name: \")\n",
        "age = int(input(\"Enter the age: \"))\n",
        "gender = input(\"Enter the gender : \")\n",
        "person_1 = Person(name, age, gender)\n",
        "\n",
        "person_1.greet()\n",
        "person_1.show_age()\n",
        "person_1.celebrate_birthday()\n",
        "print(person_1.get_details())"
      ],
      "metadata": {
        "id": "btai0In4DOYN"
      },
      "execution_count": null,
      "outputs": []
    },
    {
      "cell_type": "code",
      "source": [
        "# Demonstrate the difference between local and instance variables.\n",
        "class Person:\n",
        "    def __init__(self, name, age):\n",
        "        # Instance variables\n",
        "        self.name = name\n",
        "        self.age = age\n",
        "\n",
        "    def update_info(self, new_name, new_age):\n",
        "        # Local variables\n",
        "        name = new_name\n",
        "        age = new_age\n",
        "        self.name = new_name\n",
        "        self.age = new_age\n",
        "        print(\"Local variables:\", name, age)\n",
        "        print(\"Instance variables:\", self.name, self.age)\n",
        "\n",
        "    def show_info(self):\n",
        "        print(\"Name:\", self.name, \", Age:\", self.age)\n",
        "\n",
        "name = input(\"Enter name: \")\n",
        "age = int(input(\"Enter age: \"))\n",
        "person = Person(name, age)\n",
        "\n",
        "person.show_info()\n",
        "\n",
        "new_name = input(\"Enter new name: \")\n",
        "new_age = int(input(\"Enter new age: \"))\n",
        "person.update_info(new_name, new_age)\n",
        "\n",
        "person.show_info()"
      ],
      "metadata": {
        "id": "cNXoJBcvDOJ4"
      },
      "execution_count": null,
      "outputs": []
    },
    {
      "cell_type": "code",
      "source": [
        "# Create a class with a private variable and access it using a method.\n",
        "class Person:\n",
        "    def __init__(self, name, age):\n",
        "        self.__name = name\n",
        "        self.__age = age\n",
        "\n",
        "    def get_details(self):\n",
        "        return f\"Name: {self.__name}, Age: {self.__age}\"\n",
        "\n",
        "name = input(\"Enter name: \")\n",
        "age = int(input(\"Enter age: \"))\n",
        "person = Person(name, age)\n",
        "print(person.get_details())"
      ],
      "metadata": {
        "id": "8-59T_66DN7l"
      },
      "execution_count": null,
      "outputs": []
    },
    {
      "cell_type": "code",
      "source": [
        "class Calculator:\n",
        "    def __init__(self, a, b):\n",
        "        self.a = a\n",
        "        self.b = b\n",
        "\n",
        "    def addition(self):\n",
        "        return self.a + self.b\n",
        "\n",
        "a = int(input(\"Enter the first number: \"))\n",
        "b = int(input(\"Enter the second number: \"))\n",
        "\n",
        "user = Calculator(a, b)\n",
        "print(\"Sum:\", user.addition())"
      ],
      "metadata": {
        "id": "ibfAsUir4gZr"
      },
      "execution_count": null,
      "outputs": []
    },
    {
      "cell_type": "code",
      "source": [
        "# Create a class with a list as an instance variable and add a method to append elements.\n",
        "class MyList:\n",
        "    def __init__(self, List_input):\n",
        "        self.List_input = List_input\n",
        "\n",
        "    def Append(self, append_element):\n",
        "        self.append_element = append_element\n",
        "        self.List_input.append(self.append_element)\n",
        "        return self.List_input\n",
        "\n",
        "List_input = [1, 2, 3, 4, 5]\n",
        "append_element = int(input(\"Enter the number to append: \"))\n",
        "user = MyList(List_input)\n",
        "print(\"Updated list:\", user.Append(append_element))"
      ],
      "metadata": {
        "id": "giImVUHi-9qh"
      },
      "execution_count": null,
      "outputs": []
    },
    {
      "cell_type": "code",
      "source": [
        "# Use the __str__ method to print a custom string representation of an object.\n",
        "class Person:\n",
        "    def __init__(self, name, age, city):\n",
        "        self.name = name\n",
        "        self.age = age\n",
        "        self.city = city\n",
        "\n",
        "    def __str__(self):\n",
        "        return f\"{self.name} is {self.age} years old and lives in {self.city}.\"\n",
        "\n",
        "name = input(\"Enter your name: \")\n",
        "age = int(input(\"Enter your age: \"))\n",
        "city = input(\"Enter your city: \")\n",
        "person1 = Person(name, age, city)\n",
        "print(person1)"
      ],
      "metadata": {
        "id": "GodX_-er_Un_"
      },
      "execution_count": null,
      "outputs": []
    },
    {
      "cell_type": "code",
      "source": [
        "# Create a class with multiple constructors using default arguments.\n",
        "class Car:\n",
        "    def __init__(self, brand=\"Unknown\", model=\"Unknown\", year=0):\n",
        "        self.brand = brand\n",
        "        self.model = model\n",
        "        self.year = year\n",
        "\n",
        "    def display_info(self):\n",
        "        print(f\"Brand: {self.brand}, Model: {self.model}, Year: {self.year}\")\n",
        "\n",
        "car1 = Car()\n",
        "car2 = Car(\"Toyota\")\n",
        "car3 = Car(\"Honda\", \"Civic\")\n",
        "car4 = Car(\"Ford\", \"Mustang\", 2022)\n",
        "car1.display_info()\n",
        "car2.display_info()\n",
        "car3.display_info()\n",
        "car4.display_info()"
      ],
      "metadata": {
        "id": "fBJCgEA1A0ws"
      },
      "execution_count": null,
      "outputs": []
    },
    {
      "cell_type": "code",
      "source": [
        "# Demonstrate deleting an object using del.\n",
        "class Person:\n",
        "    def __init__(self, name):\n",
        "        self.name = name\n",
        "\n",
        "    def display(self):\n",
        "        print(f\"Name: {self.name}\")\n",
        "\n",
        "p1 = Person(\"Alice\")\n",
        "p2 = Person(\"Bob\")\n",
        "p3 = Person(\"Charlie\")\n",
        "p1.display()\n",
        "p2.display()\n",
        "p3.display()\n",
        "del p2\n",
        "print(\"After deleting p2:\")\n",
        "p1.display()\n",
        "# p2.display()  # This would give an error because p2 no longer exists\n",
        "p3.display()\n"
      ],
      "metadata": {
        "id": "lNajsIseDRKJ"
      },
      "execution_count": null,
      "outputs": []
    },
    {
      "cell_type": "code",
      "source": [
        "# Create a class that tracks the number of objects created using a class variable.\n",
        "class Role:\n",
        "    count = 0\n",
        "\n",
        "    def __init__(self, number):\n",
        "        self.number = number\n",
        "        Role.count += 1\n",
        "        self.id = Role.count\n",
        "\n",
        "    def display(self):\n",
        "        print(f\"{self.id}. {self.number}\")\n",
        "\n",
        "\n",
        "n1 = Role(\"Cardiologist\")\n",
        "n2 = Role(\"Neurologist\")\n",
        "n3 = Role(\"Gyncologist\")\n",
        "\n",
        "n1.display()\n",
        "n2.display()\n",
        "n3.display()\n",
        "\n",
        "print(f\"Total roles : {Role.count}\")\n"
      ],
      "metadata": {
        "id": "fhx8wYvHEOe7"
      },
      "execution_count": null,
      "outputs": []
    },
    {
      "cell_type": "code",
      "source": [
        "# Create a class with a method that increments a counter each time it is called.\n",
        "class Counter:\n",
        "    count = 0\n",
        "\n",
        "    def increment(self):\n",
        "        Counter.count += 1\n",
        "        print(f\"Counter value: {Counter.count}\")\n",
        "\n",
        "\n",
        "c = Counter()\n",
        "c.increment()\n",
        "c.increment()"
      ],
      "metadata": {
        "id": "2KaJ93orIbAs"
      },
      "execution_count": null,
      "outputs": []
    },
    {
      "cell_type": "code",
      "source": [
        "# Use dir() on a class object to list its attributes and methods.\n",
        "class Role:\n",
        "    count = 0\n",
        "\n",
        "    def __init__(self, number):\n",
        "        self.number = number\n",
        "        Role.count += 1\n",
        "        self.id = Role.count\n",
        "\n",
        "    def display(self):\n",
        "        print(f\"{self.id}. {self.number}\")\n",
        "\n",
        "\n",
        "r1 = Role(\"Cardiologist\")\n",
        "\n",
        "print(dir(r1))"
      ],
      "metadata": {
        "id": "HU_8PcYDKRMn"
      },
      "execution_count": null,
      "outputs": []
    },
    {
      "cell_type": "code",
      "source": [
        "# Use hasattr() to check if an object has a specific attribute.\n",
        "class Car:\n",
        "    def __init__(self, color, brand):\n",
        "        self.color = color\n",
        "        self.brand = brand\n",
        "\n",
        "c = Car(\"Red\", \"Toyota\")\n",
        "print(hasattr(c, \"color\"))"
      ],
      "metadata": {
        "id": "CYVWfvgPLo1c"
      },
      "execution_count": null,
      "outputs": []
    },
    {
      "cell_type": "code",
      "source": [
        "# Use setattr() to set a new attribute to an object.\n",
        "class Car:\n",
        "    def __init__(self, color):\n",
        "        self.color = color\n",
        "\n",
        "c = Car(\"Red\")\n",
        "\n",
        "setattr(c, \"brand\", \"Toyota\")\n",
        "\n",
        "print(c.color)\n",
        "print(c.brand)"
      ],
      "metadata": {
        "id": "eMqCVHkrMdcM"
      },
      "execution_count": null,
      "outputs": []
    },
    {
      "cell_type": "code",
      "source": [
        "# Use getattr() to get the value of an attribute of an object.\n",
        "class Car:\n",
        "    def __init__(self, color):\n",
        "        self.color = color\n",
        "c = Car(\"Red\")\n",
        "print(getattr(c, \"color\"))"
      ],
      "metadata": {
        "id": "-p_rK9VvM1Ui"
      },
      "execution_count": null,
      "outputs": []
    },
    {
      "cell_type": "code",
      "source": [
        "# Create a class with a list of objects and print details of all objects.\n",
        "class Role:\n",
        "    def __init__(self, name):\n",
        "        self.name = name\n",
        "\n",
        "    def display(self):\n",
        "        print(f\"Role: {self.name}\")\n",
        "\n",
        "\n",
        "roles = [\n",
        "    Role(\"Cardiologist\"),\n",
        "    Role(\"Neurologist\"),\n",
        "    Role(\"Gyncologist\")\n",
        "]\n",
        "\n",
        "for r in roles:\n",
        "    r.display()"
      ],
      "metadata": {
        "id": "8HvU8u2JOa31"
      },
      "execution_count": null,
      "outputs": []
    },
    {
      "cell_type": "code",
      "source": [
        "# Create a class method to display class-level information.\n",
        "class Role:\n",
        "    count = 0\n",
        "\n",
        "    def __init__(self, name):\n",
        "        self.name = name\n",
        "        Role.count += 1\n",
        "\n",
        "    @classmethod\n",
        "    def show_total_roles(cls):\n",
        "        print(f\"Total roles created: {cls.count}\")\n",
        "\n",
        "\n",
        "r1 = Role(\"Cardiologist\")\n",
        "r2 = Role(\"Neurologist\")\n",
        "r3 = Role(\"Gyncologist\")\n",
        "\n",
        "Role.show_total_roles()\n"
      ],
      "metadata": {
        "id": "O84rjzOfOao3"
      },
      "execution_count": null,
      "outputs": []
    }
  ]
}