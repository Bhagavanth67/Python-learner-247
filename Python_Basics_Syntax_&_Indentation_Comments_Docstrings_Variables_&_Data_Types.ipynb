{
  "nbformat": 4,
  "nbformat_minor": 0,
  "metadata": {
    "colab": {
      "provenance": [],
      "authorship_tag": "ABX9TyNxqmvKiJo9307vUCZOBM2b",
      "include_colab_link": true
    },
    "kernelspec": {
      "name": "python3",
      "display_name": "Python 3"
    },
    "language_info": {
      "name": "python"
    }
  },
  "cells": [
    {
      "cell_type": "markdown",
      "metadata": {
        "id": "view-in-github",
        "colab_type": "text"
      },
      "source": [
        "<a href=\"https://colab.research.google.com/github/Bhagavanth67/Python-learner-247/blob/main/Python_Basics_Syntax_%26_Indentation_Comments_Docstrings_Variables_%26_Data_Types.ipynb\" target=\"_parent\"><img src=\"https://colab.research.google.com/assets/colab-badge.svg\" alt=\"Open In Colab\"/></a>"
      ]
    },
    {
      "cell_type": "code",
      "source": [
        "# Demonstrate immutable vs mutable types using an integer and a string.\n",
        "a = 10\n",
        "print(\"Before:\", a, id(a))\n",
        "a = a + 5\n",
        "print(\"After:\", a, id(a))\n",
        "s = \"Hello\"\n",
        "print(\"Before:\", s, id(s))\n",
        "s = s + \" World\"\n",
        "print(\"After:\", s, id(s))"
      ],
      "metadata": {
        "id": "WwJhZWh9qiKZ"
      },
      "execution_count": null,
      "outputs": []
    },
    {
      "cell_type": "code",
      "execution_count": null,
      "metadata": {
        "id": "FXzYGZh9mrYh"
      },
      "outputs": [],
      "source": [
        "# Print \"Hello, Python!\".\n",
        "print(\"Hello, Python!\")"
      ]
    },
    {
      "cell_type": "code",
      "source": [
        "# Print your name 5 times.\n",
        "name = input(\"Enter the name : \")\n",
        "print(name*5,\" \")"
      ],
      "metadata": {
        "id": "UdPsXtu3p_Jj"
      },
      "execution_count": null,
      "outputs": []
    },
    {
      "cell_type": "code",
      "source": [
        "# Add two numbers x=10 and y=5.\n",
        "x = int(input(\"Enter the number : \"))\n",
        "y = int(input(\"Enter the number : \"))\n",
        "add = x + y\n",
        "print(add)"
      ],
      "metadata": {
        "id": "axVmMg3_rAVh"
      },
      "execution_count": null,
      "outputs": []
    },
    {
      "cell_type": "code",
      "source": [
        "# Create a comment explaining this line: a = 10.\n",
        "a = 10\n",
        "# here value of variable \"a\" is 10"
      ],
      "metadata": {
        "id": "GdAJb6TWrpzt"
      },
      "execution_count": null,
      "outputs": []
    },
    {
      "cell_type": "code",
      "source": [
        "# Write a docstring for a function def greet(): that prints \"Hi\".\n",
        "def greet(name):\n",
        "  return f\"Hi , {name}\"\n",
        "name = input(\"Enter the name : \")\n",
        "result = greet(name)\n",
        "print(result)"
      ],
      "metadata": {
        "id": "XLiQcv3sr8H0"
      },
      "execution_count": null,
      "outputs": []
    },
    {
      "cell_type": "code",
      "source": [
        "# Assign your age to a variable and print it.\n",
        "age = int(input(\"Enter nthe age : \"))\n",
        "print(age)"
      ],
      "metadata": {
        "id": "6U_65ca9sw-I"
      },
      "execution_count": null,
      "outputs": []
    },
    {
      "cell_type": "code",
      "source": [
        "# Assign your height (float) to a variable and print it.\n",
        "height = float(\"Enter your height in metres : \")\n",
        "print(height)"
      ],
      "metadata": {
        "id": "FGDbrXqutW06"
      },
      "execution_count": null,
      "outputs": []
    },
    {
      "cell_type": "code",
      "source": [
        "# Assign True to a variable and print it.\n",
        "inp = True\n",
        "print(inp)"
      ],
      "metadata": {
        "id": "o9LkcZVzttLj"
      },
      "execution_count": null,
      "outputs": []
    },
    {
      "cell_type": "code",
      "source": [
        "# Assign \"Python Beginner\" to a variable and print it.\n",
        "inp = \"Python Beginner\"\n",
        "print(inp)"
      ],
      "metadata": {
        "id": "KQ6Xpamrt5x0"
      },
      "execution_count": null,
      "outputs": []
    },
    {
      "cell_type": "code",
      "source": [
        "# Swap two variables a=5 and b=10 using a temporary variable.\n",
        "x = int(input(\"Enter the number : \"))\n",
        "y = int(input(\"Enter the number : \"))\n",
        "x , y = y , x\n",
        "print(x,y)"
      ],
      "metadata": {
        "id": "0vjgvtyVuFZd"
      },
      "execution_count": null,
      "outputs": []
    },
    {
      "cell_type": "code",
      "source": [
        "# Swap two variables a=5 and b=10 without using a temporary variable.\n",
        "a = 5\n",
        "b = 10\n",
        "a , b = b , a\n",
        "print(a,b)"
      ],
      "metadata": {
        "id": "eDn4i_UOudHr"
      },
      "execution_count": null,
      "outputs": []
    },
    {
      "cell_type": "code",
      "source": [
        "# Print the memory id of x = 15.\n",
        "x = 15\n",
        "print(id(x))"
      ],
      "metadata": {
        "id": "gVqvmiocunnf"
      },
      "execution_count": null,
      "outputs": []
    },
    {
      "cell_type": "code",
      "source": [
        "# Convert integer 10 to float, string, and Boolean.\n",
        "integer = 10\n",
        "float_1 = float(integer)\n",
        "string = str(integer)\n",
        "boolean = bool(integer)\n",
        "print(float_1,string,boolean,sep = \"&\")"
      ],
      "metadata": {
        "id": "9fhqKXvhvesF"
      },
      "execution_count": null,
      "outputs": []
    },
    {
      "cell_type": "code",
      "source": [
        "# Input your name and print \"Hello, <name>\" using f-string.\n",
        "name = input(\"Enter the name : \")\n",
        "print(f\"Hello,{name}\")"
      ],
      "metadata": {
        "id": "arpIXGe9wcjH"
      },
      "execution_count": null,
      "outputs": []
    },
    {
      "cell_type": "code",
      "source": [
        "# Input two numbers and print their sum.\n",
        "a = int(input(\"Enter the number : \"))\n",
        "b = int(input(\"Enter the number : \"))\n",
        "result = a + b\n",
        "print(result)"
      ],
      "metadata": {
        "id": "LP9Z996Bz775"
      },
      "execution_count": null,
      "outputs": []
    },
    {
      "cell_type": "code",
      "source": [
        "# Print multiple variables x=5, y=10, z=15 in one line.\n",
        "x = 5\n",
        "y = 10\n",
        "z = 15\n",
        "print(x,y,z)"
      ],
      "metadata": {
        "id": "XlxgNcQ60SAz"
      },
      "execution_count": null,
      "outputs": []
    },
    {
      "cell_type": "code",
      "source": [
        "# Assign x=5, y=10, z=15 in a single line and print them.\n",
        "x , y , z = 5 , 10 , 15\n",
        "print(x , y , z)"
      ],
      "metadata": {
        "id": "SdsrE9vr0oSQ"
      },
      "execution_count": null,
      "outputs": []
    },
    {
      "cell_type": "code",
      "source": [
        "# Check types of 100, 3.14, \"Python\", True.\n",
        "print(type(100))\n",
        "print(type(3.14))\n",
        "print(type(\"Python\"))\n",
        "print(type(True))"
      ],
      "metadata": {
        "id": "bJTcNJyR0-H5"
      },
      "execution_count": null,
      "outputs": []
    },
    {
      "cell_type": "code",
      "source": [
        "# Write a multi-line comment using triple quotes.\n",
        "x = 6 + 7\n",
        "\"\"\" x has a\n",
        "value of sum\n",
        "of 6 and 7 as 13\"\"\"\n",
        "print(x)"
      ],
      "metadata": {
        "id": "buMaF8AF1cEq"
      },
      "execution_count": null,
      "outputs": []
    },
    {
      "cell_type": "code",
      "source": [
        "# Print your favorite quote using a docstring.\n",
        "quote = \"\"\"\n",
        "\"Life is what happens when you're busy making other plans.\" - John Lennon\n",
        "\"\"\"\n",
        "print(quote)"
      ],
      "metadata": {
        "id": "xzNHnBlp10fo"
      },
      "execution_count": null,
      "outputs": []
    },
    {
      "cell_type": "code",
      "source": [
        "# Calculate the area of a rectangle using length and breadth.\n",
        "length = int(input(\"Enter the length : \"))\n",
        "breadth = int(input(\"Enter the breadth : \"))\n",
        "area = length * brreadth\n",
        "print(\"The area of retangle is : \",area)"
      ],
      "metadata": {
        "id": "nJKIl5R3-z0y"
      },
      "execution_count": null,
      "outputs": []
    },
    {
      "cell_type": "code",
      "source": [
        "# Calculate sum, difference, product, and quotient of two numbers.\n",
        "a = int(input(\"Enter the number : \"))\n",
        "b = int(input(\"Enter the number : \"))\n",
        "sum = a + b\n",
        "difference = a - b\n",
        "product = a * b\n",
        "quotient = a / b\n",
        "print(\"Sum of two numbers are \",sum)\n",
        "print(\"difference of two numbers are \",difference)\n",
        "print(\"product of two numbers are \",product)\n",
        "print(\"quotient of two numbers are \",quotient)"
      ],
      "metadata": {
        "id": "tWUaLA-BCPbz"
      },
      "execution_count": null,
      "outputs": []
    },
    {
      "cell_type": "code",
      "source": [
        "# Input an integer and a float; print their sum and difference.\n",
        "a = int(input(\"Enter the number  : \"))\n",
        "b = float(input(\"Enter the number : \"))\n",
        "sum = a + b\n",
        "difference = a - b\n",
        "print(\"Sum of integer and float : \",sum)\n",
        "print(\"Difference of integer and float : \",float)"
      ],
      "metadata": {
        "id": "xQNGN2f4DU-Z"
      },
      "execution_count": null,
      "outputs": []
    },
    {
      "cell_type": "code",
      "source": [
        "# Swap two numbers using tuple unpacking.\n",
        "a = int(input(\"Enter the number : \"))\n",
        "b = int(input(\"Enter the number : \"))\n",
        "a , b = b , a\n",
        "print(a , b)"
      ],
      "metadata": {
        "id": "2P6h_Fe2D_1N"
      },
      "execution_count": null,
      "outputs": []
    },
    {
      "cell_type": "code",
      "source": [
        "# Change a variable’s type multiple times and print its type each time.\n",
        "x = int(input(\"Enter an integer: \"))\n",
        "print(x, type(x))\n",
        "x = float(input(\"Enter a float: \"))\n",
        "print(x, type(x))\n",
        "x = input(\"Enter a string: \")\n",
        "print(x, type(x))"
      ],
      "metadata": {
        "id": "ETPGQkvoMTHB"
      },
      "execution_count": null,
      "outputs": []
    },
    {
      "cell_type": "code",
      "source": [
        "# Concatenate an integer, float, and string into a single string using f-string.\n",
        "integer = int(input(\"Enter the integer : \"))\n",
        "floats = float(input(\"Enter the float : \"))\n",
        "string = input(\"Enter the string : \")\n",
        "print(f\"Integer : {integer}, Float : {floats}, String : {string}\")"
      ],
      "metadata": {
        "id": "G5QB14Q0MjHn"
      },
      "execution_count": null,
      "outputs": []
    },
    {
      "cell_type": "code",
      "source": [
        "# Print memory id of a variable before and after changing its value.\n",
        "x = int(input(\"Enter the number : \"))\n",
        "print(id(x))\n",
        "x = x + 1\n",
        "print(x + 1)"
      ],
      "metadata": {
        "id": "S4EtVFGaOPzC"
      },
      "execution_count": null,
      "outputs": []
    },
    {
      "cell_type": "code",
      "source": [
        "# Input a value and check if it is int, float, or string.\n",
        "value = input(\"Enter a value: \")\n",
        "if value.isdigit():\n",
        "    print(\"Integer\")\n",
        "elif \".\" in value and value.replace(\".\", \"\").isdigit():\n",
        "    print(\"Float\")\n",
        "elif value in [\"True\", \"False\"]:\n",
        "    print(\"Boolean\")\n",
        "else:\n",
        "    print(\"String\")\n"
      ],
      "metadata": {
        "id": "IV_wc4q4OmUV"
      },
      "execution_count": null,
      "outputs": []
    },
    {
      "cell_type": "code",
      "source": [
        "# Input an integer and a string, perform type casting, and print their types and sum if possible.\n",
        "num = int(input(\"Enter an integer: \"))\n",
        "print(num, type(num))\n",
        "text = input(\"Enter a string: \")\n",
        "print(text, type(text))\n",
        "print(\"Sum:\", num + int(text))\n"
      ],
      "metadata": {
        "id": "dwpocyASPdqj"
      },
      "execution_count": null,
      "outputs": []
    }
  ]
}