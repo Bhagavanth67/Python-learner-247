{
  "nbformat": 4,
  "nbformat_minor": 0,
  "metadata": {
    "colab": {
      "provenance": [],
      "authorship_tag": "ABX9TyOqRvSaPqnJFU48SjsuNJlR",
      "include_colab_link": true
    },
    "kernelspec": {
      "name": "python3",
      "display_name": "Python 3"
    },
    "language_info": {
      "name": "python"
    }
  },
  "cells": [
    {
      "cell_type": "markdown",
      "metadata": {
        "id": "view-in-github",
        "colab_type": "text"
      },
      "source": [
        "<a href=\"https://colab.research.google.com/github/Bhagavanth67/Python-learner-247/blob/main/4_loop_control_nested_iteration_py.ipynb\" target=\"_parent\"><img src=\"https://colab.research.google.com/assets/colab-badge.svg\" alt=\"Open In Colab\"/></a>"
      ]
    },
    {
      "cell_type": "code",
      "execution_count": null,
      "metadata": {
        "id": "4hL2NLl-Ro-G"
      },
      "outputs": [],
      "source": [
        "# Iterate over a list of numbers and print whether each number is prime or not.\n",
        "lst = [1, 3, 5, 9, 17, 33, 65]\n",
        "for n in lst:\n",
        "    if n > 1:\n",
        "        for i in range(2, int(n**0.5) + 1):\n",
        "            if n % i == 0:\n",
        "                print(n, \"is not prime\")\n",
        "                break\n",
        "        else:\n",
        "            print(n, \"is prime\")\n",
        "    else:\n",
        "        print(n, \"is not prime\")"
      ]
    },
    {
      "cell_type": "code",
      "source": [
        "# Use a for loop to print numbers from 1 to 10, but stop when number equals 5 using break.\n",
        "for i in range(1,10):\n",
        "  if i == 5:\n",
        "    break\n",
        "  print(i)"
      ],
      "metadata": {
        "id": "hBLiVi5bRumR"
      },
      "execution_count": null,
      "outputs": []
    },
    {
      "cell_type": "code",
      "source": [
        "# Use a for loop with pass inside to skip the body for even numbers.\n",
        "n = int(input(\"Enter the number : \"))\n",
        "for i in range(1,n+1):\n",
        "  if i % 2 == 0:\n",
        "    pass\n",
        "  else:\n",
        "    print(i)"
      ],
      "metadata": {
        "id": "09yxDhIZSFW7"
      },
      "execution_count": null,
      "outputs": []
    },
    {
      "cell_type": "code",
      "source": [
        "# Create a nested loop to print a 3x3 matrix of stars.\n",
        "for i in range(3):\n",
        "    for j in range(3):\n",
        "        print(\"*\", end=\" \")\n",
        "    print()"
      ],
      "metadata": {
        "id": "dCa77UHPXI-W"
      },
      "execution_count": null,
      "outputs": []
    },
    {
      "cell_type": "code",
      "source": [
        "# Print a triangle pattern of stars using nested for loops.\n",
        "for i in range(1, 6):\n",
        "    for j in range(i):\n",
        "        print(\"*\", end=\" \")\n",
        "    print()"
      ],
      "metadata": {
        "id": "fmaiyABIZx88"
      },
      "execution_count": null,
      "outputs": []
    },
    {
      "cell_type": "code",
      "source": [
        "# Print numbers from 1 to 5 in rows using nested loops.\n",
        "for i in range(5):\n",
        "  for j in range(6):\n",
        "    print(j,end = \" \")"
      ],
      "metadata": {
        "id": "UkdSDdoeZ1cR"
      },
      "execution_count": null,
      "outputs": []
    },
    {
      "cell_type": "code",
      "source": [
        "# Iterate over a list of fruits and print each fruit.\n",
        "lst = [\"Apple\",\"Orange\",\"Grapes\",\"Dates\",\"Guava\"]\n",
        "for i in lst:\n",
        "  print(i)"
      ],
      "metadata": {
        "id": "TyhSWNTnacxX"
      },
      "execution_count": null,
      "outputs": []
    },
    {
      "cell_type": "code",
      "source": [
        "# Iterate over a list of numbers and print only the even ones.\n",
        "lst = [1,2,3,4,5,6,7]\n",
        "for i in lst:\n",
        "  if i % 2 == 0:\n",
        "    print(i)"
      ],
      "metadata": {
        "id": "ffpKT15ra0qr"
      },
      "execution_count": null,
      "outputs": []
    },
    {
      "cell_type": "code",
      "source": [
        "# Use a for loop to iterate over a string and print each character.\n",
        "string = input(\"Enter the string : \")\n",
        "for i in string:\n",
        "  print(i)"
      ],
      "metadata": {
        "id": "WK7-wXSZbi2F"
      },
      "execution_count": null,
      "outputs": []
    },
    {
      "cell_type": "code",
      "source": [
        "# Use a while loop to iterate over a string in reverse.\n",
        "string = input(\"Enter the string : \")\n",
        "n = 1\n",
        "l = len(string) - 1\n",
        "while l >= 0:\n",
        "  print(string[l])\n",
        "  l = l - 1"
      ],
      "metadata": {
        "id": "TpCD-3G1cYMN"
      },
      "execution_count": null,
      "outputs": []
    },
    {
      "cell_type": "code",
      "source": [
        "# Iterate over a dictionary and print each key and value.\n",
        "Dict = {\"H\" : 8 , \"A\" : 1 , \"B\" : 7 , \"D\" : 6 , \"T\" : 52}\n",
        "for keys,values in Dict.items():\n",
        "  print(keys,\":\" ,values)"
      ],
      "metadata": {
        "id": "jjltqE-0ds9k"
      },
      "execution_count": null,
      "outputs": []
    },
    {
      "cell_type": "code",
      "source": [
        "# Iterate over a dictionary and print only keys.\n",
        "Dict = {\"H\" : 8 , \"A\" : 1 , \"B\" : 7 , \"D\" : 6 , \"T\" : 52}\n",
        "for keys in Dict:\n",
        "  print(keys)"
      ],
      "metadata": {
        "id": "lAE4ajF0efUc"
      },
      "execution_count": null,
      "outputs": []
    },
    {
      "cell_type": "code",
      "source": [
        "# Iterate over a dictionary and print only values.\n",
        "Dict = {\"H\" : 8 , \"A\" : 1 , \"B\" : 7 , \"D\" : 6 , \"T\" : 52}\n",
        "for values in Dict.values():\n",
        "  print(values)"
      ],
      "metadata": {
        "id": "rJgDTeede2e1"
      },
      "execution_count": null,
      "outputs": []
    },
    {
      "cell_type": "code",
      "source": [
        "# Create a nested loop to print a multiplication table for 1 to 5.\n",
        "for i in range(1, 6):\n",
        "    for j in range(1, 6):\n",
        "        print(i * j, end=\"\\t\")\n",
        "    print()"
      ],
      "metadata": {
        "id": "GcasoA02fRDm"
      },
      "execution_count": null,
      "outputs": []
    },
    {
      "cell_type": "code",
      "source": [
        "# Iterate over a list of lists and print each inner list’s elements.\n",
        "lst = [[\"I\"], [\"L\", \"o\", \"v\", \"e\"], [\"Y\", \"o\", \"u\"]]\n",
        "for i in lst:\n",
        "    for j in i:\n",
        "        print(j, end=\" \")\n",
        "    print()"
      ],
      "metadata": {
        "id": "eFNaBQCgffL3"
      },
      "execution_count": null,
      "outputs": []
    },
    {
      "cell_type": "code",
      "source": [
        "# Use continue in a loop to skip negative numbers in a list.\n",
        "lst = [24,6,-7,1,52]\n",
        "for i in lst:\n",
        "  if i < 0:\n",
        "    continue\n",
        "  else:\n",
        "    print(i)"
      ],
      "metadata": {
        "id": "z5zxlLVLg49B"
      },
      "execution_count": null,
      "outputs": []
    },
    {
      "cell_type": "code",
      "source": [
        "# Use break in a loop to stop iterating when a zero is encountered in a list.\n",
        "lst = [24,1,52,8,0,7]\n",
        "for i in lst:\n",
        "  if i == 0:\n",
        "    break\n",
        "  else:\n",
        "    print(i)"
      ],
      "metadata": {
        "id": "LqqV0tSChe93"
      },
      "execution_count": null,
      "outputs": []
    },
    {
      "cell_type": "code",
      "source": [
        "# Use pass in a loop when a specific condition is met, then continue looping.\n",
        "lst = [1,3,5,7,9,2,4,6,8]\n",
        "for i in lst:\n",
        "  if i == 7:\n",
        "    pass\n",
        "  else:\n",
        "    print(i,end = \" \")"
      ],
      "metadata": {
        "id": "jjDyv6Azh8TX"
      },
      "execution_count": null,
      "outputs": []
    },
    {
      "cell_type": "code",
      "source": [
        "# Iterate over a string and print vowels only.\n",
        "string = input(\"Enter the string : \")\n",
        "for i in string:\n",
        "  if i in \"aeiou\":\n",
        "    print(i)"
      ],
      "metadata": {
        "id": "YEdiAkDNiTvK"
      },
      "execution_count": null,
      "outputs": []
    },
    {
      "cell_type": "code",
      "source": [
        "# Iterate over a string and count the number of consonants.\n",
        "string = input(\"Enter the string : \")\n",
        "count = 0\n",
        "for i in string:\n",
        "  if i not in \"aeiou\":\n",
        "    count = count + 1\n",
        "print(count)"
      ],
      "metadata": {
        "id": "XcZKAfgiivvK"
      },
      "execution_count": null,
      "outputs": []
    },
    {
      "cell_type": "code",
      "source": [
        "# Create a nested loop to print the following pattern:\n",
        "# 1\n",
        "# 1 2\n",
        "# 1 2 3\n",
        "# 1 2 3 4\n",
        "for i in range(1,5):\n",
        "  for j in range (1,i + 1):\n",
        "    print(j,end = \" \")\n",
        "  print()"
      ],
      "metadata": {
        "id": "ymjt1ybTjSnF"
      },
      "execution_count": null,
      "outputs": []
    },
    {
      "cell_type": "code",
      "source": [
        "# Iterate over two lists simultaneously using nested loops and print all combinations.\n",
        "lst_1 = [1,3,5,7,9]\n",
        "lst_2 = [2,4,6,8,0]\n",
        "for i in lst_1:\n",
        "  for j in lst_2:\n",
        "    print(i,j)"
      ],
      "metadata": {
        "id": "eR3qszEUk9uL"
      },
      "execution_count": null,
      "outputs": []
    },
    {
      "cell_type": "code",
      "source": [
        "# Use a while loop to traverse a list until a specific value is found.\n",
        "n = int(input(\"Enter the number: \"))\n",
        "lst = [1, 2, 3, 4, 5, 6, 7]\n",
        "index = 0\n",
        "while index < len(lst):\n",
        "    if lst[index] == n:\n",
        "        print(\"Element found at index\", index)\n",
        "        break\n",
        "    index += 1"
      ],
      "metadata": {
        "id": "oeiZuDQjlyzV"
      },
      "execution_count": null,
      "outputs": []
    },
    {
      "cell_type": "code",
      "source": [
        "# Iterate over a dictionary and print keys with values greater than a given number.\n",
        "Dict = {\"A\" : 1 , \"B\" : 2 , \"C\" : 3 , \"D\" : 4 , \"E\" : 5 , \"F\" : 6}\n",
        "for key , values in Dict.items():\n",
        "  if values > 3:\n",
        "    print(key , values)"
      ],
      "metadata": {
        "id": "0HsDHUT_uDsX"
      },
      "execution_count": null,
      "outputs": []
    },
    {
      "cell_type": "code",
      "source": [
        "# Create a nested loop to print a reverse triangle pattern of stars.\n",
        "for i in range(6,0,-1):\n",
        "  for j in range(i):\n",
        "    print(\"*\",end = \" \")\n",
        "  print()"
      ],
      "metadata": {
        "id": "h4TY44jhu1bV"
      },
      "execution_count": null,
      "outputs": []
    },
    {
      "cell_type": "code",
      "source": [
        "# Iterate over a list and modify elements in-place using their index.\n",
        "lst = [1, 2, 3, 4, 5]\n",
        "for i in range(len(lst)):\n",
        "    lst[i] = lst[i] * 2\n",
        "print(lst)"
      ],
      "metadata": {
        "id": "HF7jVzJmvR7a"
      },
      "execution_count": null,
      "outputs": []
    },
    {
      "cell_type": "code",
      "source": [
        "# Iterate over a dictionary and create a new dictionary with values doubled.\n",
        "Dict = {\"A\" : 1 , \"B\" : 2 , \"C\" : 3 , \"D\" : 4 , \"E\" : 5 , \"F\" : 6}\n",
        "new_Dict = {}\n",
        "for keys,values in Dict.items():\n",
        "  new_Dict[keys] = values * 2\n",
        "print(new_Dict)"
      ],
      "metadata": {
        "id": "P8J1LIMuvwTD"
      },
      "execution_count": null,
      "outputs": []
    },
    {
      "cell_type": "code",
      "source": [
        "# Iterate over a list of strings and print their lengths.\n",
        "lst = [\"Java\",\"Python\",\"React\",\"Javascript\"]\n",
        "for i in lst:\n",
        "  print(f\"{i} : {len(i)}\")"
      ],
      "metadata": {
        "id": "fGThiYfvw1uV"
      },
      "execution_count": null,
      "outputs": []
    },
    {
      "cell_type": "code",
      "source": [
        "# Create a nested loop to print a pattern of numbers like:\n",
        "# 1\n",
        "# 2 2\n",
        "# 3 3 3\n",
        "for i in range(4):\n",
        "  for j in range(i):\n",
        "    print(i,end = \" \")\n",
        "  print()"
      ],
      "metadata": {
        "id": "v-9UYUtdyBWv"
      },
      "execution_count": null,
      "outputs": []
    }
  ]
}