{
  "nbformat": 4,
  "nbformat_minor": 0,
  "metadata": {
    "colab": {
      "provenance": [],
      "authorship_tag": "ABX9TyMp9IVF16+bdmBn7ZUe3stA",
      "include_colab_link": true
    },
    "kernelspec": {
      "name": "python3",
      "display_name": "Python 3"
    },
    "language_info": {
      "name": "python"
    }
  },
  "cells": [
    {
      "cell_type": "markdown",
      "metadata": {
        "id": "view-in-github",
        "colab_type": "text"
      },
      "source": [
        "<a href=\"https://colab.research.google.com/github/Bhagavanth67/Python-learner-247/blob/main/7_Python_dictionaries_iteration.ipynb\" target=\"_parent\"><img src=\"https://colab.research.google.com/assets/colab-badge.svg\" alt=\"Open In Colab\"/></a>"
      ]
    },
    {
      "cell_type": "code",
      "execution_count": null,
      "metadata": {
        "id": "0bnbT6cUKk_Y"
      },
      "outputs": [],
      "source": [
        "# Create a nested dictionary using a loop for 3 students and their scores.\n",
        "nested = {}\n",
        "for i in range(1, 4):\n",
        "    print(f\"\\nEnter marks for student{i}:\")\n",
        "    math = int(input(\"Math: \"))\n",
        "    science = int(input(\"Science: \"))\n",
        "    english = int(input(\"English: \"))\n",
        "    nested[f'student{i}'] = {'Math': math, 'Science': science, 'English': english}\n",
        "print(\"\\nFinal nested dictionary:\")\n",
        "print(nested)"
      ]
    },
    {
      "cell_type": "code",
      "source": [
        "# Create a dictionary with three key-value pairs and print it.\n",
        "dct = {\"A\" : 1 , \"B\" : 2 , \"C\":3}\n",
        "print(dct)"
      ],
      "metadata": {
        "id": "agbORmnJLJr5"
      },
      "execution_count": null,
      "outputs": []
    },
    {
      "cell_type": "code",
      "source": [
        "# Access a value in a dictionary using its key.\n",
        "dct = {\"A\" : 1 , \"B\" : 2 , \"C\":3}\n",
        "print(dct[\"B\"])"
      ],
      "metadata": {
        "id": "VkVGDFmkLb2g"
      },
      "execution_count": null,
      "outputs": []
    },
    {
      "cell_type": "code",
      "source": [
        "# Add a new key-value pair to an existing dictionary.\n",
        "dct = {\"A\" : 1 , \"B\" : 2 , \"C\":3}\n",
        "dct[\"D\"] = 4\n",
        "print(dct)"
      ],
      "metadata": {
        "id": "knLRjHGVLl8P"
      },
      "execution_count": null,
      "outputs": []
    },
    {
      "cell_type": "code",
      "source": [
        "# Update the value of an existing key in a dictionary.\n",
        "dct = {\"A\" : 1 , \"B\" : 2 , \"C\":3}\n",
        "dct[\"C\"] = 4\n",
        "print(dct)"
      ],
      "metadata": {
        "id": "XV_vmoCQLyND"
      },
      "execution_count": null,
      "outputs": []
    },
    {
      "cell_type": "code",
      "source": [
        "# Remove a key-value pair using pop().\n",
        "dct = {\"A\" : 1 , \"B\" : 2 , \"C\":3}\n",
        "dct.pop(\"B\")\n",
        "print(dct)"
      ],
      "metadata": {
        "id": "8YB6zYYDMByZ"
      },
      "execution_count": null,
      "outputs": []
    },
    {
      "cell_type": "code",
      "source": [
        "# Delete a key-value pair using the del statement.\n",
        "dct = {\"A\" : 1 , \"B\" : 2 , \"C\" : 3}\n",
        "del dct[\"B\"]\n",
        "print(dct)"
      ],
      "metadata": {
        "id": "6AnhLQihMgmg"
      },
      "execution_count": null,
      "outputs": []
    },
    {
      "cell_type": "code",
      "source": [
        "# Remove the last inserted item using popitem().\n",
        "dct = {\"A\" : 1 , \"B\" : 2 , \"C\" : 3}\n",
        "dct.popitem()\n",
        "print(dct)"
      ],
      "metadata": {
        "id": "IwK0FPplMxIr"
      },
      "execution_count": null,
      "outputs": []
    },
    {
      "cell_type": "code",
      "source": [
        "# Copy a dictionary using copy().\n",
        "dct = {\"A\" : 1 , \"B\" : 2 , \"C\" : 3}\n",
        "d = dct.copy()\n",
        "print(d)"
      ],
      "metadata": {
        "id": "k-CeBgOuM9Xd"
      },
      "execution_count": null,
      "outputs": []
    },
    {
      "cell_type": "code",
      "source": [
        "# Check if a key exists in a dictionary using the 'in' operator.\n",
        "dct = {\"A\" : 1 , \"B\" : 2 , \"C\" : 3}\n",
        "key = input(\"Enter the key : \")\n",
        "for i in dct:\n",
        "  if i in key:\n",
        "    print(f\"Key {i} exists in the dictionary\")"
      ],
      "metadata": {
        "id": "fCYwm91tPEV8"
      },
      "execution_count": null,
      "outputs": []
    },
    {
      "cell_type": "code",
      "source": [
        "# Iterate over keys and print each one.\n",
        "dct = {\"A\" : 1 , \"B\" : 2 , \"C\" : 3}\n",
        "for i in dct:\n",
        "  print(i)"
      ],
      "metadata": {
        "id": "NY2YcYwWPmoX"
      },
      "execution_count": null,
      "outputs": []
    },
    {
      "cell_type": "code",
      "source": [
        "# Get the value of a key safely using get().\n",
        "dct = {\"A\" : 1 , \"B\" : 2 , \"C\" : 3}\n",
        "d = dct.get(\"A\")\n",
        "print(d)"
      ],
      "metadata": {
        "id": "NxJ_pwz5R9lG"
      },
      "execution_count": null,
      "outputs": []
    },
    {
      "cell_type": "code",
      "source": [
        "# Get all keys of a dictionary using keys().\n",
        "dct = {\"A\" : 1 , \"B\" : 2 , \"C\" : 3}\n",
        "print(dct.keys())"
      ],
      "metadata": {
        "id": "HY2J0rCFS4TR"
      },
      "execution_count": null,
      "outputs": []
    },
    {
      "cell_type": "code",
      "source": [
        "# Get all values of a dictionary using values().\n",
        "dct = {\"A\" : 1 , \"B\" : 2 , \"C\" : 3}\n",
        "print(dct.values())"
      ],
      "metadata": {
        "id": "N8lSyLNeTBRt"
      },
      "execution_count": null,
      "outputs": []
    },
    {
      "cell_type": "code",
      "source": [
        "# Get all key-value pairs of a dictionary using items().\n",
        "dct = {\"A\" : 1 , \"B\" : 2 , \"C\" : 3}\n",
        "print(dct.items())"
      ],
      "metadata": {
        "id": "MgwSJ_jCpIpS"
      },
      "execution_count": null,
      "outputs": []
    },
    {
      "cell_type": "code",
      "source": [
        "# Iterate over values and print each one.\n",
        "dct = {\"A\" : 1 , \"B\" : 2 , \"C\" : 3}\n",
        "for i in dct.values():\n",
        "  print(i)"
      ],
      "metadata": {
        "id": "JNh73rz1pTd_"
      },
      "execution_count": null,
      "outputs": []
    },
    {
      "cell_type": "code",
      "source": [
        "# Iterate over key-value pairs and print both.\n",
        "dct = {\"A\" : 1 , \"B\" : 2 , \"C\" : 3}\n",
        "for i,j in dct.items():\n",
        "  print(i,\":\",j)"
      ],
      "metadata": {
        "id": "3i5eOEQbpdqe"
      },
      "execution_count": null,
      "outputs": []
    },
    {
      "cell_type": "code",
      "source": [
        "# Create a new dictionary by doubling all values of an existing one.\n",
        "dct = {\"A\" : 1 , \"B\" : 2 , \"C\" : 3}\n",
        "new_dict = {}\n",
        "for i,j in dct.items():\n",
        "  new_dict"
      ],
      "metadata": {
        "id": "QFuyPvFopuo6"
      },
      "execution_count": null,
      "outputs": []
    },
    {
      "cell_type": "code",
      "source": [
        "# Clear all items from a dictionary using clear().\n",
        "dct = {\"A\" : 1 , \"B\" : 2 , \"C\" : 3}\n",
        "dct.clear()\n",
        "print(dct)"
      ],
      "metadata": {
        "id": "OsYrZ25ej0Yb"
      },
      "execution_count": null,
      "outputs": []
    },
    {
      "cell_type": "code",
      "source": [
        "# Merge two dictionaries using the update() method.\n",
        "dct1 = {\"A\" : 1 , \"B\" : 2 , \"C\" : 3}\n",
        "dct2 = {\"D\" : 4 , \"E\" : 5 , \"F\" : 6}\n",
        "dct1.update(dct2)\n",
        "print(dct1)"
      ],
      "metadata": {
        "id": "40D9NiINkGvg"
      },
      "execution_count": null,
      "outputs": []
    },
    {
      "cell_type": "code",
      "source": [
        "# Create a nested dictionary representing students and their marks.\n",
        "dct = {\n",
        "    \"student1\": {\"A\": 10, \"B\": 20, \"C\": 30},\n",
        "    \"student2\": {\"D\": 40, \"E\": 50, \"F\": 60},\n",
        "    \"student3\": {\"G\": 70, \"H\": 80, \"I\": 90}\n",
        "}\n",
        "print(dct,end = \" \")"
      ],
      "metadata": {
        "id": "8b3AcSp-kkeT"
      },
      "execution_count": null,
      "outputs": []
    },
    {
      "cell_type": "code",
      "source": [
        "# Access an inner dictionary value from a nested dictionary.\n",
        "dct = {\n",
        "    \"student1\": {\"A\": 10, \"B\": 20, \"C\": 30},\n",
        "    \"student2\": {\"D\": 40, \"E\": 50, \"F\": 60},\n",
        "    \"student3\": {\"G\": 70, \"H\": 80, \"I\": 90}\n",
        "}\n",
        "for student, marks in dct.items():\n",
        "    print(student)  # outer key\n",
        "    for subject, score in marks.items():\n",
        "        print(f\"  {subject} : {score}\")"
      ],
      "metadata": {
        "id": "i6q1-JCbmO6P"
      },
      "execution_count": null,
      "outputs": []
    },
    {
      "cell_type": "code",
      "source": [
        "# Use a dictionary comprehension to create a dictionary of squares from 1 to 10.\n",
        "squares = {x: x**2 for x in range(1, 11)}\n",
        "print(squares)"
      ],
      "metadata": {
        "id": "z3IFktukqETf"
      },
      "execution_count": null,
      "outputs": []
    },
    {
      "cell_type": "code",
      "source": [
        "# Use a dictionary comprehension to map numbers to 'Even' or 'Odd'.\n",
        "even_odd = {x: ('Even' if x % 2 == 0 else 'Odd') for x in range(1, 11)}\n",
        "print(even_odd)"
      ],
      "metadata": {
        "id": "J0ivwkSOqXXz"
      },
      "execution_count": null,
      "outputs": []
    },
    {
      "cell_type": "code",
      "source": [
        "# Use dictionary comprehension to swap keys and values.\n",
        "swapped = {v: k for k, v in {'A': 1, 'B': 2, 'C': 3}.items()}\n",
        "print(swapped)"
      ],
      "metadata": {
        "id": "Mx0tfNHgqbT3"
      },
      "execution_count": null,
      "outputs": []
    },
    {
      "cell_type": "code",
      "source": [
        "# Filter a dictionary using comprehension to include only values greater than 50.\n",
        "filtered = {k: v for k, v in {'a': 10, 'b': 60, 'c': 80, 'd': 40}.items() if v > 50}\n",
        "print(filtered)"
      ],
      "metadata": {
        "id": "czvrLUA7qk4Y"
      },
      "execution_count": null,
      "outputs": []
    },
    {
      "cell_type": "code",
      "source": [
        "# Combine two lists (keys and values) into a dictionary using zip().\n",
        "combined = dict(zip(['A', 'B', 'C'], [1, 2, 3]))\n",
        "print(combined)"
      ],
      "metadata": {
        "id": "3l9dyXfdqs-t"
      },
      "execution_count": null,
      "outputs": []
    },
    {
      "cell_type": "code",
      "source": [
        "# Count the frequency of each character in a string using a dictionary.\n",
        "freq = {ch: 'hello world'.count(ch) for ch in set('hello world')}\n",
        "print(freq)"
      ],
      "metadata": {
        "id": "wA6x75h1qy1-"
      },
      "execution_count": null,
      "outputs": []
    },
    {
      "cell_type": "code",
      "source": [
        "# Convert a list of tuples into a dictionary.\n",
        "tuple_dict = dict([('A', 1), ('B', 2), ('C', 3)])\n",
        "print(tuple_dict)"
      ],
      "metadata": {
        "id": "r-8qYPtmq2n2"
      },
      "execution_count": null,
      "outputs": []
    },
    {
      "cell_type": "code",
      "source": [
        "# Create a dictionary with default values using fromkeys().\n",
        "default_dict = dict.fromkeys(['A', 'B', 'C'], 0)\n",
        "print(default_dict)"
      ],
      "metadata": {
        "id": "nGXCK8pRq-N1"
      },
      "execution_count": null,
      "outputs": []
    }
  ]
}