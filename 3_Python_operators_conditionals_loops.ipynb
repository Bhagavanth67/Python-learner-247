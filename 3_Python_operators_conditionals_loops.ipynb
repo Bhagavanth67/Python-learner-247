{
  "nbformat": 4,
  "nbformat_minor": 0,
  "metadata": {
    "colab": {
      "provenance": [],
      "authorship_tag": "ABX9TyOPKzXT51wpQFQbJdyx+yHv",
      "include_colab_link": true
    },
    "kernelspec": {
      "name": "python3",
      "display_name": "Python 3"
    },
    "language_info": {
      "name": "python"
    }
  },
  "cells": [
    {
      "cell_type": "markdown",
      "metadata": {
        "id": "view-in-github",
        "colab_type": "text"
      },
      "source": [
        "<a href=\"https://colab.research.google.com/github/Bhagavanth67/Python-learner-247/blob/main/3_Python_operators_conditionals_loops.ipynb\" target=\"_parent\"><img src=\"https://colab.research.google.com/assets/colab-badge.svg\" alt=\"Open In Colab\"/></a>"
      ]
    },
    {
      "cell_type": "code",
      "source": [
        "# Perform addition, subtraction, multiplication, and division on two numbers.\n",
        "a = int(input(\"Enter the number : \"))\n",
        "b = int(input(\"Enter the number : \"))\n",
        "print(f\"\\nAddition of {a,b} is {a + b}\")\n",
        "print(f\"\\nSubraction of {a,b} is {a - b}\")\n",
        "print(f\"\\nMultiplication of {a,b} is {a * b}\")\n",
        "print(f\"\\nDivision of {a,b} is {a / b}\")"
      ],
      "metadata": {
        "id": "75ZbXBQ5aH5T"
      },
      "execution_count": null,
      "outputs": []
    },
    {
      "cell_type": "code",
      "source": [
        "# Calculate remainder and quotient of two numbers using % and //.\n",
        "a = int(input(\"Enter the number : \"))\n",
        "b = int(input(\"Enter the number : \"))\n",
        "remainder = a % b\n",
        "quotient = a / b\n",
        "print(f\"Remainder : {remainder}, Quotient : {quotient}\")"
      ],
      "metadata": {
        "id": "Bl8lsaLMba3X"
      },
      "execution_count": null,
      "outputs": []
    },
    {
      "cell_type": "code",
      "source": [
        "# Use exponentiation to find the cube of a number.\n",
        "num = int(input(\"Enter the number : \"))\n",
        "cube = num ** 3\n",
        "print(cube)"
      ],
      "metadata": {
        "id": "QZwPeenmcDdw"
      },
      "execution_count": null,
      "outputs": []
    },
    {
      "cell_type": "code",
      "source": [
        "# Demonstrate floor division and observe the output for float inputs.\n",
        "a = float(input(\"Enter the number : \"))\n",
        "b = float(input(\"Enter the number : \"))\n",
        "floor_division = a // b\n",
        "print(floor_division)"
      ],
      "metadata": {
        "id": "MJi2CY8DcrBZ"
      },
      "execution_count": null,
      "outputs": []
    },
    {
      "cell_type": "code",
      "source": [
        "# Compare two numbers and print which one is greater, smaller, or equal.\n",
        "a = int(input(\"Enter the number : \"))\n",
        "b = int(input(\"Enter the number : \"))\n",
        "if a > b:\n",
        "  print(f\"{a} is greater than {b}\")\n",
        "elif a < b:\n",
        "  print(f\"{a} is smaller than {b}\")\n",
        "else:\n",
        "  print(f\"{a} is equal to {b}\")"
      ],
      "metadata": {
        "id": "HSgiw0aPzGZz"
      },
      "execution_count": null,
      "outputs": []
    },
    {
      "cell_type": "code",
      "source": [
        "# Check if two strings are equal using relational operators.\n",
        "a = int(input(\"Enter the number : \"))\n",
        "b = int(input(\"Enter the number : \"))\n",
        "if a == b:\n",
        "  print(f\"{a} is equal to {b}\")\n",
        "else:\n",
        "  print(f\"{a} is not equal to {b}\")"
      ],
      "metadata": {
        "id": "URWw3FkG0XWX"
      },
      "execution_count": null,
      "outputs": []
    },
    {
      "cell_type": "code",
      "source": [
        "# Use logical operators to verify if a number is between 10 and 50.\n",
        "num = int(input(\"Enter the number : \"))\n",
        "if num < 51 and num > 10:\n",
        "  print(f\"{num} is between 10 and 50\")\n",
        "else:\n",
        "  print(f\"{num} is not between 10 and 50\")"
      ],
      "metadata": {
        "id": "3UIPr_dy1gWQ"
      },
      "execution_count": null,
      "outputs": []
    },
    {
      "cell_type": "code",
      "source": [
        "# Demonstrate usage of assignment operators like +=, -=, *=, /=.\n",
        "num = int(input(\"Enter the number : \"))\n",
        "temp = num\n",
        "a = int(input(\"Enter the number : \"))\n",
        "num = temp\n",
        "num += a\n",
        "print(\"Increment of values :\",num)\n",
        "num = temp\n",
        "num -= a\n",
        "print(\"Decrement of values :\",num)\n",
        "num = temp\n",
        "num *= a\n",
        "print(\"Product of values :\",num)\n",
        "num = temp\n",
        "num /= a\n",
        "print(\"Division of values :\",num)"
      ],
      "metadata": {
        "id": "5i625B8r37A-"
      },
      "execution_count": null,
      "outputs": []
    },
    {
      "cell_type": "code",
      "source": [
        "# Show how ‘in’ and ‘not in’ work on strings and lists.\n",
        "lst = [\"I\",\"Love\",\"You\"]\n",
        "string = input(\"Enter the string : \")\n",
        "if string in lst:\n",
        "  print(f\"Yes , {string} in {lst}\")\n",
        "else:\n",
        "  print(f\"No , {string} not in {lst}\")"
      ],
      "metadata": {
        "id": "zpFuwPxL7uaB"
      },
      "execution_count": null,
      "outputs": []
    },
    {
      "cell_type": "code",
      "source": [
        "# Demonstrate ‘is’ and ‘is not’ identity operators on integers and lists.\n",
        "a = 10\n",
        "b = 10\n",
        "print(a is b)\n",
        "print(a is not b)\n",
        "list1 = [1, 2, 3]\n",
        "list2 = [1, 2, 3]\n",
        "print(list1 == list2)\n",
        "print(list1 is list2)\n",
        "print(list1 is not list2)"
      ],
      "metadata": {
        "id": "B8P64nKL9L5R"
      },
      "execution_count": null,
      "outputs": []
    },
    {
      "cell_type": "code",
      "source": [
        "# Check if a given number is positive, negative, or zero using if-else.\n",
        "num = int(input(\"Enter the number : \"))\n",
        "if num > 0:\n",
        "  print(f\"{num} is positive\")\n",
        "elif num < 0:\n",
        "  print(f\"{num} is negative\")\n",
        "elif num == 0:\n",
        "  print(f\"{num} is zero\")\n",
        "else:\n",
        "  print(\"Invalid input\")"
      ],
      "metadata": {
        "id": "KZZrzV2xCwcp"
      },
      "execution_count": null,
      "outputs": []
    },
    {
      "cell_type": "code",
      "source": [
        "# Take user input and print whether it’s even or odd.\n",
        "num = int(input(\"Enter the number : \"))\n",
        "if num % 2 == 0:\n",
        "  print(f\"{num} is even\")\n",
        "else:\n",
        "  print(f\"{num} is odds\")"
      ],
      "metadata": {
        "id": "X2hQcxKqDb2a"
      },
      "execution_count": null,
      "outputs": []
    },
    {
      "cell_type": "code",
      "source": [
        "# Check if a year entered by the user is a leap year.\n",
        "year = int(input(\"Enter the number : \"))\n",
        "if year % 4 and (year % 400 == 0 or year % 100 != 0):\n",
        "  print(\"leap year\")\n",
        "else:\n",
        "  print(\"Not leap year\")"
      ],
      "metadata": {
        "id": "TRCtF285ihA5"
      },
      "execution_count": null,
      "outputs": []
    },
    {
      "cell_type": "code",
      "source": [
        "# Take marks as input and print grade (A, B, C, D, F) using if-elif-else.\n",
        "marks = int(input(\"Enter the marks : \"))\n",
        "if marks > 85 and marks <= 100:\n",
        "  print(\"A\")\n",
        "elif marks > 70 and marks <= 85:\n",
        "  print(\"B\")\n",
        "elif marks > 55 and marks <= 70:\n",
        "  print(\"C\")\n",
        "elif marks > 40 and marks <= 55:\n",
        "  print(\"D\")\n",
        "elif marks >= 0 and marks <= 40:\n",
        "  print(\"F\")\n",
        "else:\n",
        "  print(\"Invalid input\")"
      ],
      "metadata": {
        "id": "RaUuNNhsjjk0"
      },
      "execution_count": null,
      "outputs": []
    },
    {
      "cell_type": "code",
      "source": [
        "# Find the greatest of three numbers using nested if statements.\n",
        "a = int(input(\"Enter the number : \"))\n",
        "b = int(input(\"Enter the number : \"))\n",
        "c = int(input(\"Enter the number : \"))\n",
        "if (a > b) and (a > c):\n",
        "  print(f\"{a} is the greatest number\")\n",
        "elif (b > a) and(b > c):\n",
        "  print(f\"{b} is the greatest number\")\n",
        "elif (c > a) and (c > b):\n",
        "  print(f\"{c} is the greatest number\")"
      ],
      "metadata": {
        "id": "GrWlXY1xlcOS"
      },
      "execution_count": null,
      "outputs": []
    },
    {
      "cell_type": "code",
      "source": [
        "# Check if a number is divisible by 3 and 5 using if-elif-else.\n",
        "num = int(input(\"Enter the number : \"))\n",
        "if num % 3 == 0 and num % 5 == 0:\n",
        "  print(f\"{num} is divisible by 3 and 5\")\n",
        "elif num % 3 == 0 or num % 5 != 0:\n",
        "  print(f\"{num} is only divisible by 3\")\n",
        "elif num % 3 != 0 or num % 5 != 0:\n",
        "  print(f\"{num} is only divisible by 5\")\n",
        "else:\n",
        "  print(f\"{num} is not divisible by 3 and 5\")"
      ],
      "metadata": {
        "id": "L4l7MSG3m20v"
      },
      "execution_count": null,
      "outputs": []
    },
    {
      "cell_type": "code",
      "source": [
        "# Create a mini login system that checks username and password using if-else.\n",
        "username = \"Python247\"\n",
        "password = \"python\"\n",
        "Username = input(\"Enter the username : \")\n",
        "Password = input(\"Enter the password : \")\n",
        "if username == Username and password == Password:\n",
        "  print(\"Login successful !!\")\n",
        "else:\n",
        "  print(\"Invalid credentials\")"
      ],
      "metadata": {
        "id": "7TdzdTeroOFj"
      },
      "execution_count": null,
      "outputs": []
    },
    {
      "cell_type": "code",
      "source": [
        "# Write a program to print \"Pass\" if marks are 40 or above, else \"Fail\".\n",
        "marks = int(input(\"Enter the marks\"))\n",
        "if marks >= 40:\n",
        "  print(\"Pass\")\n",
        "else:\n",
        "  print(\"Fail\")"
      ],
      "metadata": {
        "id": "ACIZn-r8xEV3"
      },
      "execution_count": null,
      "outputs": []
    },
    {
      "cell_type": "code",
      "source": [
        "# Check if a character is a vowel or consonant using conditional statements.\n",
        "string = input(\"Enter the string: \")\n",
        "string = string.lower()\n",
        "vowel = []\n",
        "consonant = []\n",
        "for i in string:\n",
        "    if i in \"aeiou\":\n",
        "        vowel.append(i)\n",
        "    elif i != \" \":\n",
        "        consonant.append(i)\n",
        "print(\"Vowels:\", vowel)\n",
        "print(\"Consonants:\", consonant)"
      ],
      "metadata": {
        "id": "jpojFEf-p4G3"
      },
      "execution_count": null,
      "outputs": []
    },
    {
      "cell_type": "code",
      "source": [
        "# Print numbers from 1 to 10 using a for loop.\n",
        "for i in range(1,11):\n",
        "  print(i)"
      ],
      "metadata": {
        "id": "90Cl7Wc8xXJb"
      },
      "execution_count": null,
      "outputs": []
    },
    {
      "cell_type": "code",
      "source": [
        "# Print all even numbers between 1 and 20 using a for loop.\n",
        "for i in range(1,21):\n",
        "  if i % 2 == 0:\n",
        "    print(i)"
      ],
      "metadata": {
        "id": "BrhgV0SNxoxh"
      },
      "execution_count": null,
      "outputs": []
    },
    {
      "cell_type": "code",
      "source": [
        "# Print squares of numbers from 1 to 10 using a for loop.\n",
        "for i in range(1,11):\n",
        "  print(i)"
      ],
      "metadata": {
        "id": "-7s-4Cu2x6M2"
      },
      "execution_count": null,
      "outputs": []
    },
    {
      "cell_type": "code",
      "source": [
        "# Use a while loop to print numbers from 10 down to 1.\n",
        "for i in range(10,0,-1):\n",
        "  print(i)"
      ],
      "metadata": {
        "id": "s5mw1P_ezLAp"
      },
      "execution_count": null,
      "outputs": []
    },
    {
      "cell_type": "code",
      "source": [
        "# Use a while loop to calculate the sum of the first 10 natural numbers.\n",
        "i = 10\n",
        "sum = 0\n",
        "while i >= 0:\n",
        "  sum = sum + i\n",
        "  i = i - 1\n",
        "print(sum)"
      ],
      "metadata": {
        "id": "7lk_Gw2Gzc2E"
      },
      "execution_count": null,
      "outputs": []
    },
    {
      "cell_type": "code",
      "source": [
        "# Take user input and print its multiplication table using a for loop.\n",
        "num = int(input(\"Enter the number : \"))\n",
        "for i in range(1,11):\n",
        "  print(f\"{num} x {i} = {num*i}\")"
      ],
      "metadata": {
        "id": "CkHNlh3lz4Fh"
      },
      "execution_count": null,
      "outputs": []
    },
    {
      "cell_type": "code",
      "source": [
        "# Use range() to print numbers from 5 to 50 with step size 5.\n",
        "for i in range(5,51,5):\n",
        "  print(i)"
      ],
      "metadata": {
        "id": "CzkSjkWq0UBb"
      },
      "execution_count": null,
      "outputs": []
    },
    {
      "cell_type": "code",
      "source": [
        "# Print each character of a string using a for loop.\n",
        "string = input(\"Enter the string : \")\n",
        "for char in string:\n",
        "  print(char)"
      ],
      "metadata": {
        "id": "z_8NUzJ30eAJ"
      },
      "execution_count": null,
      "outputs": []
    },
    {
      "cell_type": "code",
      "source": [
        "# Use a while loop to print the factorial of a number entered by the user.\n",
        "num = int(input(\"Enter a number: \"))\n",
        "fact = 1\n",
        "i = 1\n",
        "while i <= num:\n",
        "    fact *= i\n",
        "    i += 1\n",
        "print(\"Factorial:\", fact)"
      ],
      "metadata": {
        "id": "rAmoEf9S1SFV"
      },
      "execution_count": null,
      "outputs": []
    },
    {
      "cell_type": "code",
      "execution_count": 23,
      "metadata": {
        "id": "pJZOtdBUaD1Y",
        "colab": {
          "base_uri": "https://localhost:8080/"
        },
        "outputId": "e696ca7d-f604-49ac-c787-5b6b815ad425"
      },
      "outputs": [
        {
          "output_type": "stream",
          "name": "stdout",
          "text": [
            "\n",
            "* \n",
            "* * \n",
            "* * * \n",
            "* * * * \n",
            "* * * * * \n"
          ]
        }
      ],
      "source": [
        "# Use nested loops to print the following pattern:\n",
        "# *\n",
        "# * *\n",
        "# * * *\n",
        "# * * * *\n",
        "# * * * * *\n",
        "for i in range(0,6):\n",
        "  for j in range(i):\n",
        "    print(\"*\", end = \" \")\n",
        "  print()"
      ]
    }
  ]
}