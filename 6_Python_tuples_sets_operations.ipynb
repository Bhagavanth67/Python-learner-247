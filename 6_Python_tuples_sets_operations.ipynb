{
  "nbformat": 4,
  "nbformat_minor": 0,
  "metadata": {
    "colab": {
      "provenance": [],
      "authorship_tag": "ABX9TyNo7Smi6d23Mk7Lf86P9nhm",
      "include_colab_link": true
    },
    "kernelspec": {
      "name": "python3",
      "display_name": "Python 3"
    },
    "language_info": {
      "name": "python"
    }
  },
  "cells": [
    {
      "cell_type": "markdown",
      "metadata": {
        "id": "view-in-github",
        "colab_type": "text"
      },
      "source": [
        "<a href=\"https://colab.research.google.com/github/Bhagavanth67/Python-learner-247/blob/main/6_Python_tuples_sets_operations.ipynb\" target=\"_parent\"><img src=\"https://colab.research.google.com/assets/colab-badge.svg\" alt=\"Open In Colab\"/></a>"
      ]
    },
    {
      "cell_type": "code",
      "execution_count": null,
      "metadata": {
        "id": "0icRRfarjNsW"
      },
      "outputs": [],
      "source": [
        "# Remove and return an arbitrary element from a set using pop().\n",
        "fruits = {\"apple\", \"banana\", \"cherry\", \"mango\"}\n",
        "item = fruits.pop()\n",
        "print(\"Removed:\", item)\n",
        "print(\"Updated set:\", fruits)"
      ]
    },
    {
      "cell_type": "code",
      "source": [
        "# Create a tuple with 5 elements and print it.\n",
        "tup = (1,2,3,4,5)\n",
        "print(tup)"
      ],
      "metadata": {
        "id": "5ao0-eSsjQXz"
      },
      "execution_count": null,
      "outputs": []
    },
    {
      "cell_type": "code",
      "source": [
        "# Access the first and last element of a tuple using indexing.\n",
        "tup = (1,2,3,4,5)\n",
        "print(tup[0],tup[-1],sep = \",\")"
      ],
      "metadata": {
        "id": "75hG-o7-jYEp"
      },
      "execution_count": null,
      "outputs": []
    },
    {
      "cell_type": "code",
      "source": [
        "# Use negative indexing to access the last two elements of a tuple.\n",
        "tup = (1,2,3,4,5)\n",
        "print(tup[-2::])"
      ],
      "metadata": {
        "id": "ei5T0YD4jt1v"
      },
      "execution_count": null,
      "outputs": []
    },
    {
      "cell_type": "code",
      "source": [
        "# Slice a tuple to get elements from index 1 to 4.\n",
        "tup = (1,2,3,4,5)\n",
        "print(tup[1 : 4])"
      ],
      "metadata": {
        "id": "cBqMMNA5kOO-"
      },
      "execution_count": null,
      "outputs": []
    },
    {
      "cell_type": "code",
      "source": [
        "# Concatenate two tuples and print the result.\n",
        "tup1 = (1,2,3,4,5)\n",
        "tup2 = (6,7,8,9,0)\n",
        "tup = tup1 + tup2\n",
        "print(tup)"
      ],
      "metadata": {
        "id": "IwdRwK2SkaGr"
      },
      "execution_count": null,
      "outputs": []
    },
    {
      "cell_type": "code",
      "source": [
        "# Repeat a tuple 3 times using multiplication.\n",
        "tup = (1,2,3,4,5)\n",
        "print(tup*3)"
      ],
      "metadata": {
        "id": "ADtyLnZJkqcb"
      },
      "execution_count": null,
      "outputs": []
    },
    {
      "cell_type": "code",
      "source": [
        "# Check if an element exists in a tuple using the 'in' operator.\n",
        "n = int(input(\"Enter the number  : \"))\n",
        "lst = (1,2,3,4,5)\n",
        "for i in range(len(lst) + 1):\n",
        "  if n in lst:\n",
        "    print(\"Element exists in tuple\")\n",
        "    break\n",
        "  else:\n",
        "    print(\"Element not exists  in tuple\")\n",
        "    break"
      ],
      "metadata": {
        "id": "e3zCar1RkzP8"
      },
      "execution_count": null,
      "outputs": []
    },
    {
      "cell_type": "code",
      "source": [
        "# Unpack a tuple into separate variables.\n",
        "tup = (1,2,3,4,5)\n",
        "for i in tup:\n",
        "  print(i)"
      ],
      "metadata": {
        "id": "lS7H-9y9mD3V"
      },
      "execution_count": null,
      "outputs": []
    },
    {
      "cell_type": "code",
      "source": [
        "# Swap two tuples using tuple unpacking.\n",
        "tup1 = (1,2,3,4,5)\n",
        "tup2 = (6,7,8,9,0)\n",
        "tup1 , tup2 = tup2 , tup1\n",
        "print(tup1)\n",
        "print(tup2)"
      ],
      "metadata": {
        "id": "3HXnjshfmR-2"
      },
      "execution_count": null,
      "outputs": []
    },
    {
      "cell_type": "code",
      "source": [
        "# Find the length of a tuple using len().\n",
        "tup = (1,2,3,4,5)\n",
        "print(len(tup))"
      ],
      "metadata": {
        "id": "yyG9gjEEm_Ce"
      },
      "execution_count": null,
      "outputs": []
    },
    {
      "cell_type": "code",
      "source": [
        "# Convert a list to a tuple using tuple().\n",
        "lst = [1,2,3,4,5]\n",
        "tup = tuple(lst)\n",
        "print(tup)"
      ],
      "metadata": {
        "id": "awI0sodJnNJN"
      },
      "execution_count": null,
      "outputs": []
    },
    {
      "cell_type": "code",
      "source": [
        "# Count the occurrences of a specific element in a tuple using count().\n",
        "tup  = (1,2,2,3,4,5,5)\n",
        "count = tup.count(4)\n",
        "print(count)"
      ],
      "metadata": {
        "id": "RTbcWQtnTRed"
      },
      "execution_count": null,
      "outputs": []
    },
    {
      "cell_type": "code",
      "source": [
        "# Find the index of an element in a tuple using index().\n",
        "tup  = (1,2,2,3,4,5,5)\n",
        "ind = tup.index(4)\n",
        "print(ind)"
      ],
      "metadata": {
        "id": "60LEc4c4Teau"
      },
      "execution_count": null,
      "outputs": []
    },
    {
      "cell_type": "code",
      "source": [
        "# Convert a tuple to a list using list().\n",
        "tup = (1,2,3,4,5)\n",
        "print(list(tup))"
      ],
      "metadata": {
        "id": "IrzsutTzT69n"
      },
      "execution_count": null,
      "outputs": []
    },
    {
      "cell_type": "code",
      "source": [
        "# Create a nested tuple and access an element from the inner tuple.\n",
        "tup = ((1,2,3),(4,5,6),(7,8,9))\n",
        "for i in tup:\n",
        "  for j in i:\n",
        "    print(j)"
      ],
      "metadata": {
        "id": "ln2_YanGULLe"
      },
      "execution_count": null,
      "outputs": []
    },
    {
      "cell_type": "code",
      "source": [
        "# Create a set of 5 numbers and print it.\n",
        "sets = {1,2,3,4,5}\n",
        "print(sets)"
      ],
      "metadata": {
        "id": "ND3b16npV1Pm"
      },
      "execution_count": null,
      "outputs": []
    },
    {
      "cell_type": "code",
      "source": [
        "# Add a single element to a set using add().\n",
        "sets = {1,2,3,4,5}\n",
        "sets.add(6)\n",
        "print(sets)"
      ],
      "metadata": {
        "id": "QmVglQ00WB30"
      },
      "execution_count": null,
      "outputs": []
    },
    {
      "cell_type": "code",
      "source": [
        "# Add multiple elements to a set using update().\n",
        "sets = {1,2,3,4,5}\n",
        "sets.update([6,7,8,9,0])\n",
        "print(sets)"
      ],
      "metadata": {
        "id": "0pBRHq-SWWvU"
      },
      "execution_count": null,
      "outputs": []
    },
    {
      "cell_type": "code",
      "source": [
        "# Remove an element from a set using remove().\n",
        "sets = {1,2,3,4,5}\n",
        "sets.remove(2)\n",
        "print(sets)"
      ],
      "metadata": {
        "id": "4rYIEdJoWfpB"
      },
      "execution_count": null,
      "outputs": []
    },
    {
      "cell_type": "code",
      "source": [
        "# Remove an element from a set using discard().\n",
        "sets = {1,2,3,4,5}\n",
        "sets.discard(3)\n",
        "print(sets)"
      ],
      "metadata": {
        "id": "M2dKVWaAXIRS"
      },
      "execution_count": null,
      "outputs": []
    },
    {
      "cell_type": "code",
      "source": [
        "# Find the union of two sets using union().\n",
        "set_a = {1,2,3,4,5}\n",
        "set_b = {1,3,5,7,9}\n",
        "sets = set_a.union(set_b)\n",
        "print(sets)"
      ],
      "metadata": {
        "id": "ON3lsrtyXbso"
      },
      "execution_count": null,
      "outputs": []
    },
    {
      "cell_type": "code",
      "source": [
        "# Find the intersection of two sets using intersection().\n",
        "set_a = {1,2,3,4,5}\n",
        "set_b = {1,3,5,7,9}\n",
        "sets = set_a.intersection(set_b)\n",
        "print(sets)"
      ],
      "metadata": {
        "id": "WaNhCNrZX9GG"
      },
      "execution_count": null,
      "outputs": []
    },
    {
      "cell_type": "code",
      "source": [
        "# Find the difference between two sets using difference().\n",
        "set_a = {1,2,3,4,5}\n",
        "set_b = {1,3,5,7,9}\n",
        "sets = set_a.difference(set_b)\n",
        "print(sets)"
      ],
      "metadata": {
        "id": "6A6Wz7ZRYy0d"
      },
      "execution_count": null,
      "outputs": []
    },
    {
      "cell_type": "code",
      "source": [
        "# Check if a set is a subset of another set.\n",
        "set_a = {1, 2, 3, 4, 5}\n",
        "set_b = {1, 3, 5}\n",
        "if set_b.issubset(set_a):\n",
        "    print(f\"{set_b} is a subset of {set_a}\")\n",
        "else:\n",
        "    print(f\"{set_b} is not a subset of {set_a}\")"
      ],
      "metadata": {
        "id": "l2qAm8LUY_qD"
      },
      "execution_count": null,
      "outputs": []
    },
    {
      "cell_type": "code",
      "source": [
        "# Iterate over a set and print all elements.\n",
        "set_a = {1, 2, 3, 4, 5}\n",
        "for i in set_a:\n",
        "  print(i)"
      ],
      "metadata": {
        "id": "wc0TikZGafmn"
      },
      "execution_count": null,
      "outputs": []
    },
    {
      "cell_type": "code",
      "source": [
        "# Convert a list with duplicate elements into a set to remove duplicates.\n",
        "lst = [1,2,3,2,4,5]\n",
        "sets = set(lst)\n",
        "print(sets)"
      ],
      "metadata": {
        "id": "O1dzH2XYa6My"
      },
      "execution_count": null,
      "outputs": []
    },
    {
      "cell_type": "code",
      "source": [
        "# Create a set comprehension to get squares of numbers from 1 to 10.\n",
        "sets = {1,2,3,4,5,6,7,8,9,10}\n",
        "new_set = {x**2 for x in sets}\n",
        "print(sorted(new_set))"
      ],
      "metadata": {
        "id": "JCQpzMp2bP5S"
      },
      "execution_count": null,
      "outputs": []
    },
    {
      "cell_type": "code",
      "source": [
        "# Find the symmetric difference between two sets.\n",
        "A = {1, 2, 3, 4}\n",
        "B = {3, 4, 5, 6}\n",
        "result = A.symmetric_difference(B)\n",
        "print(result)"
      ],
      "metadata": {
        "id": "vZbiEqlaIXvM"
      },
      "execution_count": null,
      "outputs": []
    },
    {
      "cell_type": "code",
      "source": [
        "# Check if a set is a superset of another set.\n",
        "A = {1, 2, 3, 4, 5}\n",
        "B = {2, 3}\n",
        "print(A.issuperset(B))"
      ],
      "metadata": {
        "id": "y_e1Ca1_Imbh"
      },
      "execution_count": null,
      "outputs": []
    }
  ]
}