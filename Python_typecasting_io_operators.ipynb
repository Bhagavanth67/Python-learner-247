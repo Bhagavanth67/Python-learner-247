{
  "nbformat": 4,
  "nbformat_minor": 0,
  "metadata": {
    "colab": {
      "provenance": [],
      "authorship_tag": "ABX9TyO6AtKUaeRehpM3sYWdkPNy",
      "include_colab_link": true
    },
    "kernelspec": {
      "name": "python3",
      "display_name": "Python 3"
    },
    "language_info": {
      "name": "python"
    }
  },
  "cells": [
    {
      "cell_type": "markdown",
      "metadata": {
        "id": "view-in-github",
        "colab_type": "text"
      },
      "source": [
        "<a href=\"https://colab.research.google.com/github/Bhagavanth67/Python-learner-247/blob/main/Python_typecasting_io_operators.ipynb\" target=\"_parent\"><img src=\"https://colab.research.google.com/assets/colab-badge.svg\" alt=\"Open In Colab\"/></a>"
      ]
    },
    {
      "cell_type": "code",
      "execution_count": null,
      "metadata": {
        "id": "m1XwiKQrPa2m"
      },
      "outputs": [],
      "source": [
        "# Evaluate a complex logical expression combining arithmetic and comparison operators.\n",
        "# Ensure 'input' is not overwritten in your notebook\n",
        "a = int(input(\"Enter value for a: \"))\n",
        "b = int(input(\"Enter value for b: \"))\n",
        "c = int(input(\"Enter value for c: \"))\n",
        "result = (a + b > c) and (a - b < c) or (b * 2 == a)\n",
        "print(f\"Evaluating the expression: (a + b > c) and (a - b < c) or (b * 2 == a)\")\n",
        "print(f\"Where a = {a}, b = {b}, c = {c}\")\n",
        "print(f\"Result: {result}\")"
      ]
    },
    {
      "cell_type": "code",
      "source": [
        "# Convert an integer to float and print both values.\n",
        "integer = int(input(\"Enter the number : \"))\n",
        "floats = float(integer)\n",
        "print(\"Interger is\",integer)\n",
        "print(\"Float value is\",floats)"
      ],
      "metadata": {
        "id": "qdb5giSCPhUQ"
      },
      "execution_count": null,
      "outputs": []
    },
    {
      "cell_type": "code",
      "source": [
        "# Convert a float to integer and print both values.\n",
        "floats = float(input(\"Enter the number : \"))\n",
        "integer = int(integer)\n",
        "print(\"Float value is\",floats)\n",
        "print(\"Interger is\",integer)"
      ],
      "metadata": {
        "id": "iL06on7mP8w0"
      },
      "execution_count": null,
      "outputs": []
    },
    {
      "cell_type": "code",
      "source": [
        "# Convert a string number \"25\" into an integer and print its square.\n",
        "num = input(\"Enter the string : \")\n",
        "integer = int(num)\n",
        "print(integer ** 2)"
      ],
      "metadata": {
        "id": "ZHtSv0i6QMCg"
      },
      "execution_count": null,
      "outputs": []
    },
    {
      "cell_type": "code",
      "source": [
        "# Convert an integer 5 to a string and concatenate it with another string.\n",
        "integer = int(input(\"Enter the integer : \"))\n",
        "string = str(integer)\n",
        "print(\"Given number is \",string)"
      ],
      "metadata": {
        "id": "LYmUMHpsQx1U"
      },
      "execution_count": null,
      "outputs": []
    },
    {
      "cell_type": "code",
      "source": [
        "# Print the type of different variables: integer, float, string, boolean.\n",
        "integer = int(input(\"Enter the integer value : \"))\n",
        "floats = float(input(\"Enter the floating point : \"))\n",
        "string = input(\"Enter the string value : \")\n",
        "boolean = bool(input(\"Enter the boolean value : \"))\n",
        "print(\"Integer value is\",integer)\n",
        "print(\"Float value is\",floats)\n",
        "print(\"String value is\",string)\n",
        "print(\"Boolean value is\",boolean)"
      ],
      "metadata": {
        "id": "1qP0UdKtRk68"
      },
      "execution_count": null,
      "outputs": []
    },
    {
      "cell_type": "code",
      "source": [
        "# Store your name in a variable and print its memory id using id().\n",
        "Name = input(\"Enter the name : \")\n",
        "print(id(Name))"
      ],
      "metadata": {
        "id": "80HaGoozS4Ic"
      },
      "execution_count": null,
      "outputs": []
    },
    {
      "cell_type": "code",
      "source": [
        "# Create two variables with same integer values and compare their ids.\n",
        "a = int(input(\"Enter the number : \"))\n",
        "b = int(input(\"Enter the number : \"))\n",
        "print(id(a))\n",
        "print(id(b))"
      ],
      "metadata": {
        "id": "BtiGtPY6TM6k"
      },
      "execution_count": null,
      "outputs": []
    },
    {
      "cell_type": "code",
      "source": [
        "# Convert a boolean value True to integer and print it.\n",
        "value = True\n",
        "integer_value = int(value)\n",
        "print(integer_value)"
      ],
      "metadata": {
        "id": "QcHaOCMeTrt8"
      },
      "execution_count": null,
      "outputs": []
    },
    {
      "cell_type": "code",
      "source": [
        "# Convert a float 3.9 to int, then string, and print all types using type().\n",
        "floats = 3.9\n",
        "integer = int(floats)\n",
        "string = str(floats)\n",
        "print(type(floats))\n",
        "print(type(integer))\n",
        "print(type(string))"
      ],
      "metadata": {
        "id": "C9bs7r4nUCRf"
      },
      "execution_count": null,
      "outputs": []
    },
    {
      "cell_type": "code",
      "source": [
        "# Check whether two variables with same value share the same id in Python.\n",
        "a = int(input(\"Enter the number : \"))\n",
        "b = int(input(\"Enter the number : \"))\n",
        "print(id(a))\n",
        "print(id(b))"
      ],
      "metadata": {
        "id": "zaS1ChGaU8IT"
      },
      "execution_count": null,
      "outputs": []
    },
    {
      "cell_type": "code",
      "source": [
        "# Take input for your name and age, then print a sentence using f-string.\n",
        "name = input(\"Enter the name : \")\n",
        "age = int(input(\"Enter the number : \"))\n",
        "print(f\"Hello {name}, you are {age} years old\")"
      ],
      "metadata": {
        "id": "UO72O4NSVTQ3"
      },
      "execution_count": null,
      "outputs": []
    },
    {
      "cell_type": "code",
      "source": [
        "# Take input for two numbers, add them, and display the result.\n",
        "a = int(input(\"Enter the number : \"))\n",
        "b = int(input(\"Enter the number : \"))\n",
        "add = a + b\n",
        "print(add)"
      ],
      "metadata": {
        "id": "_gNXp4RsV81F"
      },
      "execution_count": null,
      "outputs": []
    },
    {
      "cell_type": "code",
      "source": [
        "# Take input for a number and print its double using f-string formatting.\n",
        "num = float(input(\"Enter a number: \"))\n",
        "double_num = num * 2\n",
        "print(f\"The double of {num} is {double_num}\")"
      ],
      "metadata": {
        "id": "avDSpmeaWw6H"
      },
      "execution_count": null,
      "outputs": []
    },
    {
      "cell_type": "code",
      "source": [
        "# Ask user to input their favorite color and print a customized message using f-string.\n",
        "color = input(\"Enter the faourite color : \")\n",
        "print(f\"Your lucky colour is {color}\")"
      ],
      "metadata": {
        "id": "QlthEiqDXqz2"
      },
      "execution_count": null,
      "outputs": []
    },
    {
      "cell_type": "code",
      "source": [
        "# Print multiple values in one line separated by commas and spaces.\n",
        "x , y , z = 1 , 2 , 3\n",
        "print(x,y,z,sep = \", \")"
      ],
      "metadata": {
        "id": "rzR8GM2sYVAA"
      },
      "execution_count": null,
      "outputs": []
    },
    {
      "cell_type": "code",
      "source": [
        "# Print a sentence with tab spacing and newline using escape sequences.\n",
        "print(\"Hello\\tWorld\")\n",
        "print(\"Welcome\\nPython\")"
      ],
      "metadata": {
        "id": "jU_vlwdcZS7n"
      },
      "execution_count": null,
      "outputs": []
    },
    {
      "cell_type": "code",
      "source": [
        "# Write a program to calculate square and cube of a number.\n",
        "num = int(input(\"Enter the number : \"))\n",
        "square = num ** 2\n",
        "cube = num ** 3\n",
        "print(f\"Square of {num} is {square}\")\n",
        "print(f\"Cube of {num} is {cube}\")"
      ],
      "metadata": {
        "id": "VkI8XHO4fBdp"
      },
      "execution_count": null,
      "outputs": []
    },
    {
      "cell_type": "code",
      "source": [
        "# Check if a number is positive, negative, or zero using comparison operators.\n",
        "num = int(input(\"Enter the number : \"))\n",
        "if num < 0:\n",
        "  print(\"Negative\")\n",
        "elif num > 0:\n",
        "  print(\"Positive\")\n",
        "else:\n",
        "  print(\"Zero\")"
      ],
      "metadata": {
        "id": "UBVB0ZSWf-74"
      },
      "execution_count": null,
      "outputs": []
    },
    {
      "cell_type": "code",
      "source": [
        "# Demonstrate end and sep parameters in a print() statement.\n",
        "print(\"Hello\", end=\" \")\n",
        "print(\"World!\")\n",
        "print(\"Apple\", \"Banana\", \"Cherry\", sep=\" | \")\n",
        "print(\"Python\", \"Java\", \"C++\", sep=\", \", end=\"!\\n\")"
      ],
      "metadata": {
        "id": "w8FoKB20uuUP"
      },
      "execution_count": null,
      "outputs": []
    },
    {
      "cell_type": "code",
      "source": [
        "# Write a program to add, subtract, multiply, and divide two integers.\n",
        "a = 24\n",
        "b = 6\n",
        "add = a + b\n",
        "subract = a - b\n",
        "multiply = a * b\n",
        "divide = a / b\n",
        "print(f\"Addition of {a,b} is {add}\")\n",
        "print(f\"Subraction of {a,b} is {subract}\")\n",
        "print(f\"Multiplication of {a,b} is {multiply}\")\n",
        "print(f\"Division of {a,b} is {divide}\")"
      ],
      "metadata": {
        "id": "1nfq-HfevuHm"
      },
      "execution_count": null,
      "outputs": []
    },
    {
      "cell_type": "code",
      "source": [
        "# Write a program to find remainder and quotient when dividing two numbers.\n",
        "a = 24\n",
        "b = 6\n",
        "remainder = a % b\n",
        "quotient = a / b\n",
        "floor_division = a // b\n",
        "print(f\"Remainder of {a , b} is {remainder}\")\n",
        "print(f\"Quotient of {a , b} is {quotient}\")\n",
        "print(f\"Floor_division of {a , b} is {floor_division}\")"
      ],
      "metadata": {
        "id": "G1b-tEpHxIBf"
      },
      "execution_count": null,
      "outputs": []
    },
    {
      "cell_type": "code",
      "source": [
        "# Demonstrate usage of arithmetic operators on two numbers.\n",
        "a = 15\n",
        "b = 4\n",
        "addition = a + b\n",
        "subtraction = a - b\n",
        "multiplication = a * b\n",
        "division = a / b\n",
        "floor_division = a // b\n",
        "modulus = a % b\n",
        "exponentiation = a ** b\n",
        "print(f\"Addition of {a} and {b} is {addition}\")\n",
        "print(f\"Subtraction of {a} and {b} is {subtraction}\")\n",
        "print(f\"Multiplication of {a} and {b} is {multiplication}\")\n",
        "print(f\"Division of {a} and {b} is {division}\")\n",
        "print(f\"Floor Division of {a} and {b} is {floor_division}\")\n",
        "print(f\"Modulus of {a} and {b} is {modulus}\")\n",
        "print(f\"Exponentiation of {a} and {b} is {exponentiation}\")\n"
      ],
      "metadata": {
        "id": "uuZnuqkPyLUF"
      },
      "execution_count": null,
      "outputs": []
    },
    {
      "cell_type": "code",
      "source": [
        "# Write a program using relational operators to compare two integers.\n",
        "a = 10\n",
        "b = 20\n",
        "print(f\"Checking if {a} is equal to {b}: {a} == {b} -> {a == b}\")\n",
        "print(f\"Checking if {a} is not equal to {b}: {a} != {b} -> {a != b}\")\n",
        "print(f\"Checking if {a} is greater than {b}: {a} > {b} -> {a > b}\")\n",
        "print(f\"Checking if {a} is less than {b}: {a} < {b} -> {a < b}\")\n",
        "print(f\"Checking if {a} is greater than or equal to {b}: {a} >= {b} -> {a >= b}\")\n",
        "print(f\"Checking if {a} is less than or equal to {b}: {a} <= {b} -> {a <= b}\")"
      ],
      "metadata": {
        "id": "NemGxcTVypCB"
      },
      "execution_count": null,
      "outputs": []
    },
    {
      "cell_type": "code",
      "source": [
        "# Write a program using logical operators to check if a number is between 10 and 50.\n",
        "num = int(input(\"Enter the number : \"))\n",
        "if (num <= 50) == True and (num >= 10) == True:\n",
        "  print(\"Yes , the number is between 10 and 50\")\n",
        "else:\n",
        "  print(\"No , the number is not between 10 and 50\")"
      ],
      "metadata": {
        "id": "APhiPsJPzWHQ"
      },
      "execution_count": null,
      "outputs": []
    },
    {
      "cell_type": "code",
      "source": [
        "# Compare two string variables using identity operators (is, is not).\n",
        "a = input(\"Enter the string : \")\n",
        "b = input(\"Enter the string : \")\n",
        "print(a is b)\n",
        "print(a is not b)"
      ],
      "metadata": {
        "id": "vSSffqzr0iCI"
      },
      "execution_count": null,
      "outputs": []
    },
    {
      "cell_type": "code",
      "source": [
        "# Create a simple calculator for +, -, *, / operations based on user input.\n",
        "num1 = int(input(\"Enter the number : \"))\n",
        "num2 = int(input(\"Enter the number : \"))\n",
        "operator = input(\"Enter the operator (+,-,*,/)\")\n",
        "if operator == \"+\":\n",
        "    result = num1 + num2\n",
        "elif operator == \"-\":\n",
        "    result = num1 - num2\n",
        "elif operator == \"*\":\n",
        "    result = num1 * num2\n",
        "elif operator == \"/\":\n",
        "    if num2 != 0:\n",
        "        result = num1 / num2\n",
        "    else:\n",
        "        result = \"Error! Division by zero.\"\n",
        "else:\n",
        "    result = \"Invalid operator\"\n",
        "print(f\"{num1} {operator} {num2} = {result}\")"
      ],
      "metadata": {
        "id": "BLoa-Zti1UVw"
      },
      "execution_count": null,
      "outputs": []
    },
    {
      "cell_type": "code",
      "source": [
        "# Check membership of a character in a given string using the 'in' operator.\n",
        "a = input(\"Enter the string : \")\n",
        "b = input(\"Enter the string : \")\n",
        "print(b in a)\n",
        "print(b not in a)"
      ],
      "metadata": {
        "id": "cDFXAxBi2ax0"
      },
      "execution_count": null,
      "outputs": []
    },
    {
      "cell_type": "code",
      "source": [
        "# Use compound assignment operators to update a variable’s value step by step.\n",
        "x = int(input(\"Enter the number : \"))\n",
        "x += 5\n",
        "print(f\"Adding 5 to x using 'x += 5': new value of x = {x}\")\n",
        "x -= 3\n",
        "print(f\"Subtracting 3 from x using 'x -= 3': new value of x = {x}\")\n",
        "x *= 2\n",
        "print(f\"Multiplying x by 2 using 'x *= 2': new value of x = {x}\")\n",
        "x /= 4\n",
        "print(f\"Dividing x by 4 using 'x /= 4': new value of x = {x}\")\n",
        "x %= 3\n",
        "print(f\"Getting remainder of x divided by 3 using 'x %= 3': new value of x = {x}\")\n",
        "x **= 2\n",
        "print(f\"Raising x to the power of 2 using 'x **= 2': new value of x = {x}\")\n",
        "x //= 2\n",
        "print(f\"Floor dividing x by 2 using 'x //= 2': new value of x = {x}\")"
      ],
      "metadata": {
        "id": "nZzkFwW931q_"
      },
      "execution_count": null,
      "outputs": []
    }
  ]
}